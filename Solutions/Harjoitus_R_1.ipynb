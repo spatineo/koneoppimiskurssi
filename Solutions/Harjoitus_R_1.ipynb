{
 "cells": [
  {
   "cell_type": "markdown",
   "metadata": {},
   "source": [
    "`R` Jupyte`R`issa\n",
    "==============\n",
    "\n",
    "**WORK IN PROGRESS!**\n",
    "\n",
    "## Syntaksi tutuksi\n",
    "Muuta vapaasti solujen sisältöä kaksoisklikkaamalla niitä. Valitse solu hiirellä ja paina CTRL+Enter ajaaksesi solun. "
   ]
  },
  {
   "cell_type": "code",
   "execution_count": 21,
   "metadata": {},
   "outputs": [
    {
     "name": "stdout",
     "output_type": "stream",
     "text": [
      "[1] \"Hello World\"\n"
     ]
    }
   ],
   "source": [
    "print('Hello World')"
   ]
  },
  {
   "cell_type": "code",
   "execution_count": 22,
   "metadata": {},
   "outputs": [
    {
     "name": "stdout",
     "output_type": "stream",
     "text": [
      "[1] \"Muuttujan i arvo on\"\n"
     ]
    }
   ],
   "source": [
    "i <- 1\n",
    "print('Muuttujan i arvo on', i)"
   ]
  },
  {
   "cell_type": "code",
   "execution_count": 23,
   "metadata": {},
   "outputs": [
    {
     "name": "stdout",
     "output_type": "stream",
     "text": [
      "[1] 1\n"
     ]
    }
   ],
   "source": [
    "#Vektori\n",
    "x <- c(1, 2)\n",
    "print(x[1])"
   ]
  },
  {
   "cell_type": "markdown",
   "metadata": {},
   "source": [
    "Fibonaccin lukujono halutulta piduutelta. Funktion paluuarvo on sen viimeinen rivi. Aja myös tämä solu (CTRL+Enter)."
   ]
  },
  {
   "cell_type": "code",
   "execution_count": 57,
   "metadata": {},
   "outputs": [],
   "source": [
    "fibonacci <- function(length) {\n",
    "   vals <- numeric(length)\n",
    "    vals[1] <- 1\n",
    "    vals[2] <- 2\n",
    "    if (length > 3) {\n",
    "        for (i in 3:length) {\n",
    "            vals[i] <- vals[i-1]+vals[i-2]\n",
    "        } \n",
    "    }\n",
    "    vals[0:length]\n",
    "}"
   ]
  },
  {
   "cell_type": "code",
   "execution_count": 60,
   "metadata": {},
   "outputs": [],
   "source": [
    "# Luo fibonaccin lukujono muutamalla parametrilla\n"
   ]
  },
  {
   "cell_type": "markdown",
   "metadata": {},
   "source": [
    "## Hands-on\n",
    "R:n asennus sisällyttää muutamia aineistoja valmiina, kuten klassisen [Iris](https://en.wikipedia.org/wiki/Iris_flower_data_set)-aineiston. Iris sisältää havaintoja Kurjenmiekka-kukkien \n",
    "neljästä mitatusta parametrista senttimetreinä:\n",
    "* verholehden (sepal) pituus ja leveys\n",
    "* terälehden (petal) pituus ja leveys\n",
    "\n",
    "Näiden lisäksi jokainen havainto sisältää tiedon mihin kolmesta Kurjenmiekka lajista Iris setosa, Iris virginica tai Iris versicolor havainto kuuluu.\n",
    "\n",
    "#### Datan lataaminen\n",
    "Lataa aineisto data-funktiolla ja näytä sen lyhyt kuvaus:"
   ]
  },
  {
   "cell_type": "code",
   "execution_count": null,
   "metadata": {},
   "outputs": [],
   "source": [
    "#install.packages(\"caret\", dependencies=c(\"Depends\", \"Suggests\"))\n",
    "library(dplyr)\n",
    "library(caret)\n",
    "\n",
    "data(\"iris\")\n",
    "dataset <- iris\n",
    "glimpse(dataset)"
   ]
  },
  {
   "cell_type": "markdown",
   "metadata": {},
   "source": [
    "#### Tunnuslukujen tutkiminen\n",
    "Tärkeä osa aineistoon tutustumista on sen tunnuslukujen tutkiminen. "
   ]
  },
  {
   "cell_type": "code",
   "execution_count": null,
   "metadata": {},
   "outputs": [],
   "source": [
    "summary(dataset)"
   ]
  },
  {
   "cell_type": "code",
   "execution_count": null,
   "metadata": {},
   "outputs": [],
   "source": []
  }
 ],
 "metadata": {
  "kernelspec": {
   "display_name": "R",
   "language": "R",
   "name": "ir"
  },
  "language_info": {
   "codemirror_mode": "r",
   "file_extension": ".r",
   "mimetype": "text/x-r-source",
   "name": "R",
   "pygments_lexer": "r",
   "version": "3.4.4"
  },
  "pycharm": {
   "stem_cell": {
    "cell_type": "raw",
    "source": [],
    "metadata": {
     "collapsed": false
    }
   }
  }
 },
 "nbformat": 4,
 "nbformat_minor": 2
}