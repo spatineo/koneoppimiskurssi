{
 "cells": [
  {
   "cell_type": "markdown",
   "metadata": {},
   "source": [
    "Kasviryhmän luokittelu \n",
    "===================\n",
    "\n",
    "Tässä harjoituksessa tarkoituksena on soveltaa koneoppimista kirjastojen esimerkkiaineistojen sijaan oikeaan kerättyyn aineistoon. \n",
    "\n",
    "**Ongelma**: Voiko kasviryhmän tunnistaa kasvulohkojen metatiedoista?\n",
    "\n",
    "## Data lataus\n",
    "Lataa Pandas DataFrame-olioina aineistot \"../../ml-datasets/peltolohkot.csv\" ja \"../../ml-datasets/kasvikoodit.csv\".\n",
    "\n",
    "Lataa vain 10% [otos](https://pandas.pydata.org/pandas-docs/stable/reference/api/pandas.DataFrame.sample.html) koko datasta"
   ]
  },
  {
   "cell_type": "code",
   "execution_count": null,
   "metadata": {},
   "outputs": [],
   "source": [
    "import pandas as pd\n",
    "from IPython.display import display, HTML\n",
    "\n",
    "\n",
    "parcels = pd.read_csv(\"../../ml-datasets/peltolohkot.csv\", index_col=False).sample(frac=0.1)\n",
    "codes = pd.read_csv(\"../../ml-datasets/kasvikoodit.csv\", index_col=\"code\")\n",
    "\n",
    "print(\"Lohkodata – koko: \", len(parcels))\n",
    "display(parcels.head(3))\n",
    "print(\"Kasvikoodidata – koko:\", len(codes))\n",
    "display(HTML(codes.head(5).to_html()))"
   ]
  },
  {
   "cell_type": "markdown",
   "metadata": {},
   "source": [
    "## Datan esikäsittely\n",
    "\n",
    "Muodosta aluksi kasvikoodidatasta sanakirja, jossa kasvikoodi on avaimena ja ryhmä on arvona ([vinkki](https://pandas.pydata.org/pandas-docs/stable/reference/api/pandas.DataFrame.to_dict.html)). "
   ]
  },
  {
   "cell_type": "code",
   "execution_count": null,
   "metadata": {},
   "outputs": [],
   "source": [
    "codes_dict = codes.to_dict()['group']\n",
    "print(codes_dict)"
   ]
  },
  {
   "cell_type": "markdown",
   "metadata": {},
   "source": [
    "Sitten luo lohkodataan uusi sarake `group`, ja sijoita siihen aluksi kasvikoodi (`KVI_KASVIKOODI`) ja sen perusteella ryhmä  ([vinkki](https://pandas.pydata.org/pandas-docs/stable/reference/api/pandas.Series.map.html)). \n",
    "Valitse tämän jälkeen vain rivit, joissa ryhmä on määritelty (!=-1)."
   ]
  },
  {
   "cell_type": "code",
   "execution_count": null,
   "metadata": {},
   "outputs": [],
   "source": [
    "parcels['group'] = parcels['KVI_KASVIKOODI'].fillna(-1.0).astype(int)\n",
    "parcels.group = parcels.group.map(codes_dict)\n",
    "\n",
    "parcels.group = parcels.group.fillna(-1)\n",
    "parcels = parcels[parcels.group != -1]\n",
    "parcels.head(3)"
   ]
  },
  {
   "cell_type": "markdown",
   "metadata": {},
   "source": [
    "Tarkastelemalla yllä olevaa tulostetta huomaat, että `KASVULOHKOTUNNUS` ei ole numeerinen arvo. Ennen luokittelua se on syytä muuttaa numeeriseksi. Yksi tapa tehdä tämä on muuttaa. [Jätetään](https://pandas.pydata.org/pandas-docs/stable/reference/api/pandas.DataFrame.drop.html) samalla pois alkuperäinen kasvikoodi `KVI_KASVIKOODI` ja lajikekoodi `KLE_LAJIKEKOODI`."
   ]
  },
  {
   "cell_type": "code",
   "execution_count": null,
   "metadata": {},
   "outputs": [],
   "source": [
    "parcel_tunnus_dict = {i: x for x, i in enumerate(sorted(parcels['KASVULOHKOTUNNUS'].unique()))}\n",
    "print(parcel_tunnus_dict)"
   ]
  },
  {
   "cell_type": "code",
   "execution_count": null,
   "metadata": {},
   "outputs": [],
   "source": [
    "parcels_modified = parcels.copy().drop(['KVI_KASVIKOODI', 'KLE_LAJIKEKOODI'], axis=1)\n",
    "parcels_modified['KASVULOHKOTUNNUS'] =  parcels_modified['KASVULOHKOTUNNUS'].map(parcel_tunnus_dict)\n",
    "parcels_modified.head(3)"
   ]
  },
  {
   "cell_type": "markdown",
   "metadata": {},
   "source": [
    "#### Muuttujien valinta\n",
    "\n",
    "Muodosta nyt havaintojoukko `X` ja luokkajoukko `y`.\n",
    "Valitse havaintojoukkoon mieleikkäämmät sarakkeet lohkodatasta `parcels_modified`. Saat valittua vain osan sarakkeista alla olevalla tyylillä:\n",
    "```python\n",
    "# Olemassa olevat\n",
    "print(list(df.columns))\n",
    "df = df[['vain', 'halutut', 'sarakkeet']]\n",
    "```\n",
    "\n",
    "Valitse luokiksi `y` kasviryhmäsarake `group`."
   ]
  },
  {
   "cell_type": "code",
   "execution_count": null,
   "metadata": {},
   "outputs": [],
   "source": [
    "print(list(parcels_modified.columns))\n",
    "# Poista kommenttimerkki '#' haluamasi muuttujien edestä \n",
    "X = parcels_modified[[\n",
    " #'X',\n",
    " #'Y',\n",
    " #'fid',\n",
    " #'VUOSI',\n",
    " #'KASVULOHKOTUNNUS',\n",
    " #'LUOMUVKD_KOODI',\n",
    " #'SIELAKD_KOODI',\n",
    " #'PINTAALA',\n",
    " #'ONKOEKOLOGINENALA',\n",
    " #'LISATIETO',\n",
    " #'JATTOPVM',\n",
    " #'PERPVM',\n",
    " #'PAIPVM',\n",
    "]]\n",
    "y = parcels_modified.group"
   ]
  },
  {
   "cell_type": "markdown",
   "metadata": {},
   "source": [
    "#### Jako\n",
    "Jaa luomasi X ja luokat y opetus- ja testijoukkoihin X_train, X_test, y_train ja  y_test siten, että testijoukon osuus on 80% ja opetusjoukon osuus on 20% havainnoista."
   ]
  },
  {
   "cell_type": "code",
   "execution_count": null,
   "metadata": {},
   "outputs": [],
   "source": [
    "from sklearn.model_selection import train_test_split\n",
    "\n",
    "X_train, X_test, y_train, y_test = train_test_split(X,y,test_size=0.5)"
   ]
  },
  {
   "cell_type": "markdown",
   "metadata": {},
   "source": [
    "##### Datan visualisointia\n",
    "Visualisoidaan opetusjoukkoa hieman ongelman hahmottamiseksi. Koska valitsemiesi muuttujien määrä voi olla enemmän kuin 2, käytetään PCA-analyysiä visualisoinnin tukena. "
   ]
  },
  {
   "cell_type": "code",
   "execution_count": null,
   "metadata": {},
   "outputs": [],
   "source": [
    "from sklearn.preprocessing import StandardScaler\n",
    "from sklearn.decomposition import PCA\n",
    "import matplotlib.pyplot as plt\n",
    "pca = PCA(n_components=2)\n",
    "X_train_scaled = StandardScaler().fit_transform(X_train)\n",
    "X_train_pca = pca.fit_transform(X_train_scaled)\n",
    "print(\"Muuttujien määrä oli ennen {}, nyt se on {}\".format(len(X.columns), len(X_train_pca[0])))\n",
    "\n",
    "fig, ax = plt.subplots(figsize=(8, 6))\n",
    "ax.scatter(X_train_pca[:, 0], X_train_pca[:, 1], c=y_train, cmap=plt.cm.Set1,\n",
    "            edgecolor='k')\n",
    "ax.set_xlabel('1. ominaisuusvektori')\n",
    "ax.set_ylabel('2. ominaisuusvektori')\n",
    "plt.show()"
   ]
  },
  {
   "cell_type": "markdown",
   "metadata": {},
   "source": [
    "## Luokittelu\n",
    "Muodosta sitten putki ([`Pipeline`](https://scikit-learn.org/stable/modules/generated/sklearn.pipeline.Pipeline.html#sklearn.pipeline.Pipeline)), johon liität StandardScaler ja PCA esikäsittelyvaiheet, käytä PCA:n `n_components`-parametrina arvoa 0.7. Lisää putken viimeiseksi komponentiksi haluamasi luokittelija nimelle \"clf\". Jos käytät Keras-luokittelijaa, muista luoda funktio sille oletusparametreilla."
   ]
  },
  {
   "cell_type": "code",
   "execution_count": null,
   "metadata": {},
   "outputs": [],
   "source": [
    "from sklearn.preprocessing import StandardScaler\n",
    "from sklearn.decomposition import PCA\n",
    "from sklearn.svm import SVC\n",
    "from sklearn.pipeline import Pipeline\n",
    "\n",
    "pipe = Pipeline([('scaler', StandardScaler()), ('pca',PCA(n_components=0.7)), ('clf',SVC())])"
   ]
  },
  {
   "cell_type": "markdown",
   "metadata": {},
   "source": [
    "Suorita sitten hyperparametrioptimointi. Putkitusta käytettäessä laita parametrisanakirjaan luokittelijakomponentin nimi ja kaksi alaviivaa ennen parametrin nimeä. Esimerkiksi SVM-algoritmin `C`-parametrin tapauksessa:\n",
    "```python\n",
    "params_without_pipeline = {'C':[1,10]}\n",
    "params_with_pipeline = {'clf__C':[1,10]}\n",
    "\n",
    "```"
   ]
  },
  {
   "cell_type": "code",
   "execution_count": null,
   "metadata": {},
   "outputs": [],
   "source": [
    "from sklearn.model_selection import GridSearchCV\n",
    "\n",
    "def train(pipe, parameters):\n",
    "    clf = GridSearchCV(pipe, parameters, cv=2, n_jobs=-1)\n",
    "    clf.fit(X_train, y_train)\n",
    "    print(\"Parhaat parametrit: \", clf.best_params_)\n",
    "    print(\"Paras opetus OA: {:.4f}\".format(clf.best_score_))\n",
    "    print(\"OA: {:.4f}\".format(clf.score(X_test, y_test)))\n",
    "    return clf"
   ]
  },
  {
   "cell_type": "code",
   "execution_count": null,
   "metadata": {},
   "outputs": [],
   "source": [
    "clf = train(pipe, {'clf__C':[1], 'clf__gamma':[1]})\n",
    "y_pred = clf.predict(X_test)"
   ]
  },
  {
   "cell_type": "markdown",
   "metadata": {},
   "source": [
    "### Evaluointi\n",
    "Overall Accuracy vihjaisi mallin olevan erittäin hyvä! Tarkista kuitenkin vielä luokitteluraportin ja sekaannusmatriisin avulla mallin hyvyys."
   ]
  },
  {
   "cell_type": "code",
   "execution_count": null,
   "metadata": {},
   "outputs": [],
   "source": [
    "# Evaluoi\n",
    "from sklearn.metrics import classification_report\n",
    "from sklearn.metrics import confusion_matrix\n",
    "from utils import plot_confusion_matrix\n",
    "\n",
    "def evaluate(y_pred):\n",
    "    names =  ['1 - Harkapapu','2 - Herne','3 - Juurikkaat',\n",
    "              '4 - Kesanto','5 - Kevatrapsi','6 - Kevatviljat',\n",
    "              '7 - Nurmi','8 - Peruna','9 - Rypsi','10 - Syysvilja']\n",
    "    \n",
    "    cm = confusion_matrix(y_test, y_pred)\n",
    "    print(classification_report(y_test, y_pred))\n",
    "    plot_confusion_matrix(cm, list(range(1,11)), names, normalize=True)"
   ]
  },
  {
   "cell_type": "code",
   "execution_count": null,
   "metadata": {},
   "outputs": [],
   "source": [
    "evaluate(y_pred)"
   ]
  },
  {
   "cell_type": "markdown",
   "metadata": {},
   "source": [
    "## Ongelman korjaamista\n",
    "Yllä olevaa sekaannusmatriisia tarkastelemalla saatat huomata, että melkein kaikki testijoukon havainnot on luokiteltu kuuluvan kehteen luokkaan 6 tai 7. Tarkastele seuraavaksi kuinka paljon havaintoja on missäkin luokassa opetusjoukossa."
   ]
  },
  {
   "cell_type": "code",
   "execution_count": null,
   "metadata": {},
   "outputs": [],
   "source": [
    "from collections import Counter, OrderedDict\n",
    "distribution = dict(OrderedDict(sorted(Counter(y_train).items(), key=lambda t: t[0])))\n",
    "distribution"
   ]
  },
  {
   "cell_type": "markdown",
   "metadata": {},
   "source": [
    "Havaintojen epätasapaino vaikuttaa olevan ongelma. Sen korjaamiseksi kokeile [RandomUnderSampler](https://imbalanced-learn.readthedocs.io/en/stable/generated/imblearn.under_sampling.RandomUnderSampler.html#imblearn.under_sampling.RandomUnderSampler)-luokkaa ja [Pipeline_imb](https://imbalanced-learn.readthedocs.io/en/stable/api.html#module-imblearn.pipeline)-luokkaa putkittamiseen. Muodosta putki samaan tapaan kuin edellä, mutta lisää RandomUnderSampler ennen luokittelijaa. Nyt voit myös asettaa PCA-parametrin `n_components` korkeammaksi, sillä suorituskyky on resamplauksen vuoksi parempi."
   ]
  },
  {
   "cell_type": "code",
   "execution_count": null,
   "metadata": {},
   "outputs": [],
   "source": [
    "from imblearn.under_sampling import RandomUnderSampler\n",
    "from imblearn.pipeline import Pipeline as Pipeline_imb\n",
    "\n",
    "pipe_imb = Pipeline_imb([('scaler', StandardScaler()), \n",
    "                         ('pca',PCA(n_components=0.9)), \n",
    "                         ('rus', RandomUnderSampler('not minority')),\n",
    "                         ('clf',SVC())])"
   ]
  },
  {
   "cell_type": "markdown",
   "metadata": {},
   "source": [
    "##### Korjauksen jälkeinen evaluointi\n",
    "Tämän jälkeen suorita hyperparametrien optimointi ja evaluointi."
   ]
  },
  {
   "cell_type": "code",
   "execution_count": null,
   "metadata": {
    "scrolled": false
   },
   "outputs": [],
   "source": [
    "clf = train(pipe_imb, {'clf__C':[1, 10], 'clf__gamma':[0.1, 0.01, 1]})\n",
    "y_pred = clf.predict(X_test)\n",
    "evaluate(y_pred)"
   ]
  },
  {
   "cell_type": "markdown",
   "metadata": {},
   "source": [
    "Kokeile vielä valita eri määrä muuttujia kohdassa [Muuttujien valinta](#Muuttujien-valinta). Aja se solu ja tämän jälkeen solut [Jako](#Jako) ja [Korjauksen jälkeinen evaluointi](#Korjauksen-jälkeinen-evaluointi)."
   ]
  }
 ],
 "metadata": {
  "kernelspec": {
   "display_name": "Python 3",
   "language": "python",
   "name": "python3"
  },
  "language_info": {
   "codemirror_mode": {
    "name": "ipython",
    "version": 3
   },
   "file_extension": ".py",
   "mimetype": "text/x-python",
   "name": "python",
   "nbconvert_exporter": "python",
   "pygments_lexer": "ipython3",
   "version": "3.6.8"
  },
  "pycharm": {
   "stem_cell": {
    "cell_type": "raw",
    "source": [],
    "metadata": {
     "collapsed": false
    }
   }
  }
 },
 "nbformat": 4,
 "nbformat_minor": 2
}