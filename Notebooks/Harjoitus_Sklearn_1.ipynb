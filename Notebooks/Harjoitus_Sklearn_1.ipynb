{
 "cells": [
  {
   "cell_type": "markdown",
   "source": [
    "Scikit-learn perusteet\n",
    "======================\n",
    "![Scikit-learn](https://upload.wikimedia.org/wikipedia/commons/thumb/0/05/Scikit_learn_logo_small.svg/1280px-Scikit_learn_logo_small.svg.png \"Scikit-learn\")\n",
    "\n",
    "Asentaaksesi tarvittavat paketit omalla koneellasi harjoituksen suorittamista varten:\n",
    "```\n",
    "$ pip3 install scikit-learn pandas imbalanced-learn matplotlib==2.2.2\n",
    "```\n",
    "\n",
    "\n",
    "\n",
    "\n",
    "## Motivointia\n",
    "Tämän nopean demon tarkoitus on näyttää miten helposti ja nopeasti kirjaston avulla saa suoritettua suoritettua \n",
    "yksinkertaisen luokittelun."
   ],
   "metadata": {
    "collapsed": false
   }
  },
  {
   "cell_type": "code",
   "execution_count": 1,
   "outputs": [
    {
     "name": "stdout",
     "text": [
      "Luokittelun OA: 0.87\nLuokitteluraportti (PA=precision, UA=recall) :\n               precision    recall  f1-score   support\n\n     class A       0.92      0.95      0.94       318\n     class B       0.87      0.76      0.82       319\n     class C       0.81      0.89      0.85       313\n\n    accuracy                           0.87       950\n   macro avg       0.87      0.87      0.87       950\nweighted avg       0.87      0.87      0.87       950\n\n"
     ],
     "output_type": "stream"
    },
    {
     "name": "stderr",
     "text": [
      "/home/joona/IdeaProjects/MLCourse/venv/forNb/lib/python3.6/site-packages/sklearn/svm/base.py:193: FutureWarning: The default value of gamma will change from 'auto' to 'scale' in version 0.22 to account better for unscaled features. Set gamma explicitly to 'auto' or 'scale' to avoid this warning.\n  \"avoid this warning.\", FutureWarning)\n"
     ],
     "output_type": "stream"
    }
   ],
   "source": [
    "from sklearn.datasets import make_classification\n",
    "from sklearn import svm\n",
    "from sklearn.metrics import classification_report, accuracy_score, confusion_matrix\n",
    "\n",
    "X, y = make_classification(n_samples=1000, n_features=4, n_classes=3, n_informative=2, n_clusters_per_class=1)\n",
    "X_train, X_test, y_train, y_test = X[:50], X[50:], y[:50], y[50:]\n",
    "clf = svm.SVC()\n",
    "clf.fit(X_train, y_train)\n",
    "y_pred = clf.predict(X_test)\n",
    "report = classification_report(y_test, y_pred, target_names=[\"class A\", \"class B\", \"class C\"])\n",
    "score = accuracy_score(y_test, y_pred)\n",
    "print(\"Luokittelun OA: {:.2f}\".format(score))\n",
    "print(\"Luokitteluraportti (PA=precision, UA=recall) :\\n\", report)"
   ],
   "metadata": {
    "collapsed": false,
    "pycharm": {
     "name": "#%%\n",
     "is_executing": false
    }
   }
  },
  {
   "cell_type": "markdown",
   "source": [
    "## Aineiston lataaminen\n",
    "Suurin osa Pythonin koneoppimiskirjastoista tukee:\n",
    "- Numpy Array\n",
    "- Pandas \n",
    "- listat\n",
    "\n",
    "Scikit-learn -kirjastossa on myös monia valmiita aineistoja algoritmien ja käsittelyketjujen testaamista varten moduulissa\n",
    "`sklearn.datasets`. \n",
    "\n",
    "Lataa aluksi klassinen jo edellisessä harjoituksessa tutuksi tullut [Iris](https://en.wikipedia.org/wiki/Iris_flower_data_set)-aineisto.\n",
    "Käytä hyväksi [datasets-dokumentaatiota](https://scikit-learn.org/stable/datasets/index.html)."
   ],
   "metadata": {
    "collapsed": false
   }
  },
  {
   "cell_type": "code",
   "execution_count": 2,
   "metadata": {
    "pycharm": {
     "is_executing": false,
     "name": "#%%\n"
    }
   },
   "outputs": [
    {
     "name": "stdout",
     "text": [
      ".. _iris_dataset:\n\nIris plants dataset\n--------------------\n\n**Data Set Characteristics:**\n\n    :Number of Instances: 150 (50 in each of three classes)\n    :Number of Attributes: 4 numeric, predictive attributes and the class\n    :Attribute Information:\n        - sepal length in cm\n        - sepal width in cm\n        - petal length in cm\n        - petal width in cm\n        - class:\n                - Iris-Setosa\n                - Iris-Versicolour\n                - Iris-Virginica\n                \n    :Summary Statistics:\n\n    ============== ==== ==== ======= ===== ====================\n                    Min  Max   Mean    SD   Class Correlation\n    ============== ==== ==== ======= ===== ====================\n    sepal length:   4.3  7.9   5.84   0.83    0.7826\n    sepal width:    2.0  4.4   3.05   0.43   -0.4194\n    petal length:   1.0  6.9   3.76   1.76    0.9490  (high!)\n    petal width:    0.1  2.5   1.20   0.76    0.9565  (high!)\n    ============== ==== ==== ======= ===== ====================\n\n    :Missing Attribute Values: None\n    :Class Distribution: 33.3% for each of 3 classes.\n    :Creator: R.A. Fisher\n    :Donor: Michael Marshall (MARSHALL%PLU@io.arc.nasa.gov)\n    :Date: July, 1988\n\nThe famous Iris database, first used by Sir R.A. Fisher. The dataset is taken\nfrom Fisher's paper. Note that it's the same as in R, but not as in the UCI\nMachine Learning Repository, which has two wrong data points.\n\nThis is perhaps the best known database to be found in the\npattern recognition literature.  Fisher's paper is a classic in the field and\nis referenced frequently to this day.  (See Duda & Hart, for example.)  The\ndata set contains 3 classes of 50 instances each, where each class refers to a\ntype of iris plant.  One class is linearly separable from the other 2; the\nlatter are NOT linearly separable from each other.\n\n.. topic:: References\n\n   - Fisher, R.A. \"The use of multiple measurements in taxonomic problems\"\n     Annual Eugenics, 7, Part II, 179-188 (1936); also in \"Contributions to\n     Mathematical Statistics\" (John Wiley, NY, 1950).\n   - Duda, R.O., & Hart, P.E. (1973) Pattern Classification and Scene Analysis.\n     (Q327.D83) John Wiley & Sons.  ISBN 0-471-22361-1.  See page 218.\n   - Dasarathy, B.V. (1980) \"Nosing Around the Neighborhood: A New System\n     Structure and Classification Rule for Recognition in Partially Exposed\n     Environments\".  IEEE Transactions on Pattern Analysis and Machine\n     Intelligence, Vol. PAMI-2, No. 1, 67-71.\n   - Gates, G.W. (1972) \"The Reduced Nearest Neighbor Rule\".  IEEE Transactions\n     on Information Theory, May 1972, 431-433.\n   - See also: 1988 MLC Proceedings, 54-64.  Cheeseman et al\"s AUTOCLASS II\n     conceptual clustering system finds 3 classes in the data.\n   - Many, many more ...\nFirt 5 rows:\n [[5.1 3.5 1.4 0.2]\n [4.9 3.  1.4 0.2]\n [4.7 3.2 1.3 0.2]\n [4.6 3.1 1.5 0.2]\n [5.  3.6 1.4 0.2]]\n"
     ],
     "output_type": "stream"
    }
   ],
   "source": [
    "from sklearn import datasets\n",
    "\n",
    "# Lataa Iris-aineisto\n",
    "dataset = datasets.load_iris() #TODO: None\n",
    "\n",
    "print(dataset.DESCR)\n",
    "print(\"Firt 5 rows:\\n\", dataset.data[:5])"
   ]
  },
  {
   "cell_type": "markdown",
   "source": [
    "Havainnot ovat dataset-olion data-kentässä ja niiden luokat taas olion target-kentässä. \n",
    "Tyypillisesti havaintoja merkitään (isolla) kirjaimella `X` ja luokkia kirjaimella `y`."
   ],
   "metadata": {
    "collapsed": false
   }
  },
  {
   "cell_type": "code",
   "execution_count": 3,
   "outputs": [
    {
     "name": "stdout",
     "text": [
      "Ensimmäisellä havainnolla y: 0 ja X: [5.1 3.5 1.4 0.2]\n"
     ],
     "output_type": "stream"
    }
   ],
   "source": [
    "y = dataset.target\n",
    "X = dataset.data \n",
    "print(\"Ensimmäisellä havainnolla y:\",y[0], \"ja X:\", X[0])"
   ],
   "metadata": {
    "collapsed": false,
    "pycharm": {
     "name": "#%%\n",
     "is_executing": false
    }
   }
  },
  {
   "cell_type": "markdown",
   "source": [
    "Useimmiten aineiston joutuu kuitenkin lataamaan muulla tavalla, esimerkiksi CSV- tai HDF5-tiedostosta levyltä tai internetin yli esimerkiksi AWS S3:n sisältä. \n",
    "Tähän (ja niiiin moneen muuhun) [pandas](https://pandas.pydata.org) on oiva apuväline. \n",
    "Kirjoita dataset-olio csv-tiedostoksi ja lue se. Käytä hyväksesi [dokumentaatiota](https://pandas.pydata.org/pandas-docs/stable/reference/api/pandas.read_csv.html). "
   ],
   "metadata": {
    "collapsed": false
   }
  },
  {
   "cell_type": "code",
   "execution_count": 4,
   "outputs": [],
   "source": [
    "import pandas as pd\n",
    "\n",
    "#Tyypillisesti pandas DataFrame-oliot nimetään df-nimellä\n",
    "df = pd.DataFrame(data=dataset.data, columns=dataset.feature_names)\n",
    "df[\"target\"] = dataset.target\n",
    "# Tyypillisesti luokat ovat ensimmäisessä sarakkeessa\n",
    "df = df[[\"target\"] + dataset.feature_names]\n",
    "df.to_csv(\"iris_dataset.csv\", sep=';', index=False)\n",
    "\n",
    "# Lue aineisto levyltä\n",
    "df = pd.read_csv(\"iris_dataset.csv\", sep=';') #TODO: None"
   ],
   "metadata": {
    "collapsed": false,
    "pycharm": {
     "name": "#%%\n",
     "is_executing": false
    }
   }
  },
  {
   "cell_type": "markdown",
   "source": [
    "Nyt voit muodostaa havaintovektorin `X` ja luokat `y`."
   ],
   "metadata": {
    "collapsed": false,
    "pycharm": {
     "name": "#%% md\n"
    }
   }
  },
  {
   "cell_type": "code",
   "execution_count": 5,
   "outputs": [
    {
     "name": "stdout",
     "text": [
      "Ensimmäisellä havainnolla y: 0 ja X: sepal length (cm)    5.1\nsepal width (cm)     3.5\npetal length (cm)    1.4\npetal width (cm)     0.2\nName: 0, dtype: float64\n"
     ],
     "output_type": "stream"
    }
   ],
   "source": [
    "y = df[\"target\"] # huom: df[\"target\"] on sama kuin df.target\n",
    "X = df[dataset.feature_names]\n",
    "print(\"Ensimmäisellä havainnolla y:\",y.loc[0], \"ja X:\", X.loc[0])"
   ],
   "metadata": {
    "collapsed": false,
    "pycharm": {
     "name": "#%%\n",
     "is_executing": false
    }
   }
  },
  {
   "cell_type": "markdown",
   "source": [
    "Useimmiten kuitenkaan sarakkeiden nimet eivät ole tiedossa, joten järkevämpää on käyttää sarakkeiden numeroita.\n",
    "Käytä hyväksesi [dokumentaatiota](https://pandas.pydata.org/pandas-docs/stable/reference/api/pandas.DataFrame.iloc.html)."
   ],
   "metadata": {
    "collapsed": false
   }
  },
  {
   "cell_type": "code",
   "execution_count": 6,
   "outputs": [],
   "source": [
    "#TODO: None\n",
    "y = df.iloc[:, 0]\n",
    "X = df.iloc[:, 1:]"
   ],
   "metadata": {
    "collapsed": false,
    "pycharm": {
     "name": "#%%\n",
     "is_executing": false
    }
   }
  },
  {
   "cell_type": "markdown",
   "source": [
    "## Aineiston jakaminen\n",
    "Scikit-learn mahdollistaa monia eri tapoja jakaa aineisto opetus- ja testijoukkoihin. Perinteisin tapa on käyttää \n",
    "[`train_test_split`](https://scikit-learn.org/stable/modules/generated/sklearn.model_selection.train_test_split.html)-funktiota. \n",
    "\n",
    "Jaa luomasi `X` ja luokat `y` opetus- ja testijoukkoihin `X_train, X_test, y_train` ja  `y_test` siten, että \n",
    "testijoukon osuus on 20% ja opetusjoukon osuus on 80% havainnoista. "
   ],
   "metadata": {
    "collapsed": false,
    "pycharm": {
     "name": "#%% md\n"
    }
   }
  },
  {
   "cell_type": "code",
   "execution_count": 7,
   "outputs": [],
   "source": [
    "from sklearn.model_selection import train_test_split, StratifiedKFold\n",
    "X_train, X_test, y_train, y_test = train_test_split(X, y, test_size=0.2, random_state=42) # TODO: None"
   ],
   "metadata": {
    "collapsed": false,
    "pycharm": {
     "name": "#%%\n",
     "is_executing": false
    }
   }
  },
  {
   "cell_type": "markdown",
   "source": [
    "Yksi tapa varmistaa, että havainnot jakautuvat luokkiensa puolesta tasaisesti opeus- ja testijoukkoihin on käyttää moduulia \n",
    "[`StratifiedShuffleSplit`](https://scikit-learn.org/stable/modules/generated/sklearn.model_selection.StratifiedShuffleSplit.html).\n",
    "Perinteisimmin sitä käytetään ristivalidoinnin yhteydessä."
   ],
   "metadata": {
    "collapsed": false,
    "pycharm": {
     "name": "#%% md\n"
    }
   }
  },
  {
   "cell_type": "code",
   "execution_count": 8,
   "outputs": [],
   "source": [
    "from sklearn.model_selection import StratifiedShuffleSplit\n",
    "sss = StratifiedShuffleSplit(n_splits=1, random_state=42, test_size=0.2)\n",
    "train_index, test_index = next(sss.split(X, y))\n",
    "X_train, X_test = X.iloc[train_index], X.iloc[test_index]\n",
    "y_train, y_test = y.iloc[train_index], y.iloc[test_index]\n"
   ],
   "metadata": {
    "collapsed": false,
    "pycharm": {
     "name": "#%%\n",
     "is_executing": false
    }
   }
  },
  {
   "cell_type": "markdown",
   "source": [
    "## Aineiston esikäsittely\n",
    "Aineistolle on usein tarve tehdä muutamia esikäsittelyvaiheita tilanteesta riippuen.\n",
    "\n",
    "#### Standardointi\n",
    "Aineistoa on usein hyvä standardoida ennen käyttöä. Tähän voi käyttää prosessointityökalua [StandardScaler](https://scikit-learn.org/stable/modules/generated/sklearn.preprocessing.StandardScaler.html)\n",
    "Standardointi suoritetaan opetusjoukon mukaan, mutta samaa oliota sovelletaan myös testausjoukon kanssa. "
   ],
   "metadata": {
    "collapsed": false
   }
  },
  {
   "cell_type": "code",
   "execution_count": 9,
   "outputs": [],
   "source": [
    "from sklearn.preprocessing import StandardScaler\n",
    "scaler = StandardScaler()\n",
    "# TODO: None\n",
    "scaler.fit(X_train)\n",
    "X_train = scaler.transform(X_train)"
   ],
   "metadata": {
    "collapsed": false,
    "pycharm": {
     "name": "#%%\n",
     "is_executing": false
    }
   }
  },
  {
   "cell_type": "markdown",
   "source": [
    "#### Havaintovektoreiden muuttujien määrän vähentäminen\n",
    "Muuttujien määrän voidaan vähentää pääkomponenttianalyysin avulla [PCA](https://scikit-learn.org/stable/modules/generated/sklearn.decomposition.PCA.html)\n",
    "Tällöin havaintovektoreiden alkuperäiset muuttujat korvataan pääkomponenttianalyysin luomilla ominaisvektoreilla.\n",
    "Tämä välivaihe suoritetaan tyypillisesti vain, jos algoritmien opettaminen olisi muuten liian hidasta.\n",
    "\n",
    "Luo PCA-olio, siten, että pääkomponentit selittää 90% havaintojen varianssista \n"
   ],
   "metadata": {
    "collapsed": false
   }
  },
  {
   "cell_type": "code",
   "execution_count": 10,
   "outputs": [
    {
     "name": "stdout",
     "text": [
      "Muuttujien määrä oli ennen 4, nyt se on  3\n"
     ],
     "output_type": "stream"
    }
   ],
   "source": [
    "from sklearn.decomposition import PCA\n",
    "# TODO: None\n",
    "pca = PCA(n_components=0.99)\n",
    "pca.fit(X_train)\n",
    "X_train = pca.transform(X_train)\n",
    "print(\"Muuttujien määrä oli ennen 4, nyt se on \", len(X_train[0]))\n",
    "\n",
    "# TODO: [kuvaaja](https://scikit-learn.org/stable/auto_examples/datasets/plot_iris_dataset.html)"
   ],
   "metadata": {
    "collapsed": false,
    "pycharm": {
     "name": "#%%\n",
     "is_executing": false
    }
   }
  },
  {
   "cell_type": "markdown",
   "source": [
    "Visualisoi vielä opetusjoukkoa kahden ensimmäisen PCA:n luomaa ominaisvektoria käyttäen"
   ],
   "metadata": {
    "collapsed": false,
    "pycharm": {
     "name": "#%% md\n"
    }
   }
  },
  {
   "cell_type": "code",
   "execution_count": 11,
   "outputs": [
    {
     "data": {
      "text/plain": "<Figure size 800x600 with 1 Axes>"
     },
     "metadata": {},
     "output_type": "display_data"
    }
   ],
   "source": [
    "import matplotlib.pyplot as plt\n",
    "fig, ax = plt.subplots(figsize=(8, 6))\n",
    "ax.scatter(X_train[:, 0], X_train[:, 1], c=y_train, cmap=plt.cm.Set1,\n",
    "            edgecolor='k')\n",
    "ax.set_xlabel('1. ominaisuusvektori')\n",
    "ax.set_ylabel('2. ominaisuusvektori')\n",
    "plt.show()"
   ],
   "metadata": {
    "collapsed": false,
    "pycharm": {
     "name": "#%%\n",
     "is_executing": false
    }
   }
  },
  {
   "cell_type": "markdown",
   "source": [
    "Aineiston esikäsittelyn yhteydessä suoritettiin opetusjoukolle standardointi ja pääkomponenttianalyysi muuttujien vähentämiseksi.\n",
    "Samat vaiheet suoritetaan nyt myös testausjoukolle. Tämä vaihe suoritetaan tyypillisesti vasta opettamisen jälkeen."
   ],
   "metadata": {
    "collapsed": false
   }
  },
  {
   "cell_type": "code",
   "execution_count": 12,
   "outputs": [],
   "source": [
    "# TODO: None\n",
    "X_test = scaler.transform(X_test)\n",
    "X_test = pca.transform(X_test)\n"
   ],
   "metadata": {
    "collapsed": false,
    "pycharm": {
     "name": "#%% \n",
     "is_executing": false
    }
   }
  },
  {
   "cell_type": "markdown",
   "source": [
    "## Luokittelu\n",
    "\n",
    "Datan esikäsittelyn jälkeen voidaan siirtyä luokitteluun.\n",
    "\n",
    "### Opettaminen\n",
    "Luo opetettu malli käyttäen algoritmia [KNeighborsClassifier](https://scikit-learn.org/stable/modules/generated/sklearn.neighbors.KNeighborsClassifier.html#sklearn.neighbors.KNeighborsClassifier)"
   ],
   "metadata": {
    "collapsed": false,
    "pycharm": {
     "name": "#%% md\n"
    }
   }
  },
  {
   "cell_type": "code",
   "execution_count": 13,
   "outputs": [],
   "source": [
    "# Lisää import-lause algoritmille\n",
    "clf = None"
   ],
   "metadata": {
    "collapsed": false,
    "pycharm": {
     "name": "#%%\n",
     "is_executing": false
    }
   }
  },
  {
   "cell_type": "markdown",
   "source": [
    "Opeta [RF](https://scikit-learn.org/stable/modules/generated/sklearn.svm.SVC.html)"
   ],
   "metadata": {
    "collapsed": false
   }
  },
  {
   "cell_type": "code",
   "execution_count": 14,
   "outputs": [],
   "source": [
    "# Lisää import-lause algoritmille\n",
    "clf = None"
   ],
   "metadata": {
    "collapsed": false,
    "pycharm": {
     "name": "#%%\n",
     "is_executing": false
    }
   }
  },
  {
   "cell_type": "markdown",
   "source": [
    "Opeta [SVM](https://scikit-learn.org/stable/modules/generated/sklearn.svm.SVC.html)"
   ],
   "metadata": {
    "collapsed": false,
    "pycharm": {
     "name": "#%% md\n"
    }
   }
  },
  {
   "cell_type": "code",
   "execution_count": 15,
   "outputs": [
    {
     "name": "stderr",
     "text": [
      "/home/joona/IdeaProjects/MLCourse/venv/forNb/lib/python3.6/site-packages/sklearn/svm/base.py:193: FutureWarning: The default value of gamma will change from 'auto' to 'scale' in version 0.22 to account better for unscaled features. Set gamma explicitly to 'auto' or 'scale' to avoid this warning.\n  \"avoid this warning.\", FutureWarning)\n"
     ],
     "output_type": "stream"
    },
    {
     "data": {
      "text/plain": "SVC(C=1.0, cache_size=200, class_weight=None, coef0=0.0,\n    decision_function_shape='ovr', degree=3, gamma='auto_deprecated',\n    kernel='rbf', max_iter=-1, probability=False, random_state=None,\n    shrinking=True, tol=0.001, verbose=False)"
     },
     "metadata": {},
     "output_type": "execute_result",
     "execution_count": 15
    }
   ],
   "source": [
    "# Lisää import-lause algoritmille\n",
    "#TODO: None\n",
    "from sklearn.svm import SVC\n",
    "clf = SVC()\n",
    "clf.fit(X_train, y_train)\n",
    "\n"
   ],
   "metadata": {
    "collapsed": false,
    "pycharm": {
     "name": "#%%\n",
     "is_executing": false
    }
   }
  },
  {
   "cell_type": "markdown",
   "source": [
    "##### Mallin tallentaminen\n",
    "Kun malli on opetettu, sen voi tallentaa levylle myöhempää käyttöä varten. Tähän voi käyttää Pythonin pickle-moduulia,\n",
    "tai tehokkaampaan tallennukseen Scikit-learnin suosittelemaa [joblib](https://joblib.readthedocs.io/en/latest/)-kirjastoa.\n",
    "Mainittakoon tässä yhteydessä, että kirjasto soveltuu erinomaisesti myös laskennan lokaaliin rinnakkaistamiseen."
   ],
   "metadata": {
    "collapsed": false,
    "pycharm": {
     "name": "#%% md\n"
    }
   }
  },
  {
   "cell_type": "code",
   "execution_count": null,
   "outputs": [],
   "source": [
    "from joblib import dump, load\n",
    "# Tallennus\n",
    "dump(clf, 'sklearn_harj1.joblib')\n",
    "# Lataus\n",
    "clf = load('sklearn_harj1.joblib')\n",
    "\n",
    "\n",
    "\n",
    "\n",
    "### Testaaminen\n",
    "Opettamisen jälkeen luonnollinen seuraava vaihe on mallin testaaminen.\n",
    " \n",
    "### Ennusteiden luominen\n",
    "Mallia voidaan nyt käyttää ennusteiden luomiseen. Luo ennustetut arvot testausjoukolle `X_test`."
   ],
   "metadata": {
    "collapsed": false,
    "pycharm": {
     "name": "#%%\n"
    }
   }
  },
  {
   "cell_type": "code",
   "execution_count": 16,
   "outputs": [
    {
     "name": "stdout",
     "text": [
      "Viisi ensimmäistä ennustettua luokkaa:  [0 2 1 1 0]\nViisi ensimmäistä oikeaa luokkaa: \t[0 2 1 1 0]\n"
     ],
     "output_type": "stream"
    }
   ],
   "source": [
    "# TODO: None\n",
    "y_pred = clf.predict(X_test)\n",
    "print(\"Viisi ensimmäistä ennustettua luokkaa:  {}\".format(y_pred[:5]))\n",
    "# to_numpy, jotta saman näköinen formaatti ylemmän tulosteen kanssa\n",
    "print(\"Viisi ensimmäistä oikeaa luokkaa: \\t{}\".format(y_test[:5].to_numpy()))"
   ],
   "metadata": {
    "collapsed": false,
    "pycharm": {
     "name": "#%%\n",
     "is_executing": false
    }
   }
  },
  {
   "cell_type": "markdown",
   "source": [
    " \n",
    "#### Evaluointi\n",
    "Scikit-learn tarjoaa monia apuvälineitä mallien evaluoimiseksi ja tutustutaan niihin seuraavaksi.\n",
    "Nopein tapa saada mallin yleinen tarkkuus (OA) on käyttää `clf.score()`-funktiota. Käytä `X_test` ja `y_test` -olioita."
   ],
   "metadata": {
    "collapsed": false,
    "pycharm": {
     "name": "#%% md\n"
    }
   }
  },
  {
   "cell_type": "code",
   "execution_count": 17,
   "outputs": [
    {
     "name": "stdout",
     "text": [
      "OA: 0.93\n"
     ],
     "output_type": "stream"
    }
   ],
   "source": [
    "OA = clf.score(X_test, y_test)\n",
    "print(\"OA: {:.2f}\".format(OA))\n"
   ],
   "metadata": {
    "collapsed": false,
    "pycharm": {
     "name": "#%%\n",
     "is_executing": false
    }
   }
  },
  {
   "cell_type": "markdown",
   "source": [
    "Usein kuitenkin halutaan saada selville muutakin, kuin pelkkä OA. Tällöin turvaudutaan [`sklearn.metrics`](https://scikit-learn.org/stable/modules/classes.html#module-sklearn.metrics)\n",
    "-moduuliin. \n",
    "\n",
    "Saanti UA (recall), tarkkuus PA (precision) ja f1 ovat luokkakohtaisia, joten kokonaistuloksen saamiseksi ne on keskiarvoitettava. \n",
    "Käytä tässä keskiarvotusta 'micro', joka laskee yhteen oikeat positiiviset, väärät negatiiviset ja väärät positiiviset.\n",
    "Toinen vaihtoehto olisi käyttää keskiarvotusta 'macro', joka laskisi keskiarvon metriikoista.\n",
    "\n",
    "Laske alle arvot käyttäen `sklearn.metrics`-moduulia ja 'micro'-keskiarvotusta. Käytä `y_test` ja `y_pred` -olioita. "
   ],
   "metadata": {
    "collapsed": false,
    "pycharm": {
     "name": "#%% md\n"
    }
   }
  },
  {
   "cell_type": "code",
   "execution_count": 18,
   "outputs": [
    {
     "name": "stdout",
     "text": [
      "OA: 0.9333, UA: 0.9333, PA: 0.9333, f1: 0.9333\n"
     ],
     "output_type": "stream"
    }
   ],
   "source": [
    "from sklearn.metrics import accuracy_score, f1_score, precision_score, recall_score\n",
    "# TODO: None\n",
    "OA = accuracy_score(y_test, y_pred)\n",
    "PA = precision_score(y_test, y_pred, average='micro')\n",
    "UA = recall_score(y_test, y_pred, average='micro')\n",
    "f1 = f1_score(y_test, y_pred, average='micro')\n",
    "\n",
    "print(\"OA: {:.4f}, UA: {:.4f}, PA: {:.4f}, f1: {:.4f}\".format(OA, UA, PA, f1))"
   ],
   "metadata": {
    "collapsed": false,
    "pycharm": {
     "name": "#%%\n",
     "is_executing": false
    }
   }
  },
  {
   "cell_type": "markdown",
   "source": [
    "Scikit-learn tarjoaa myös kattavan [luokitteluraportin](https://scikit-learn.org/stable/modules/generated/sklearn.metrics.classification_report.html) \n"
   ],
   "metadata": {
    "collapsed": false
   }
  },
  {
   "cell_type": "code",
   "execution_count": 19,
   "outputs": [
    {
     "name": "stdout",
     "text": [
      "              precision    recall  f1-score   support\n\n      setosa       1.00      1.00      1.00        10\n  versicolor       0.90      0.90      0.90        10\n   virginica       0.90      0.90      0.90        10\n\n    accuracy                           0.93        30\n   macro avg       0.93      0.93      0.93        30\nweighted avg       0.93      0.93      0.93        30\n\n"
     ],
     "output_type": "stream"
    }
   ],
   "source": [
    "from sklearn.metrics import classification_report\n",
    "report = classification_report(y_test, y_pred, target_names=dataset.target_names)\n",
    "print(report)"
   ],
   "metadata": {
    "collapsed": false,
    "pycharm": {
     "name": "#%%\n",
     "is_executing": false
    }
   }
  },
  {
   "cell_type": "markdown",
   "source": [
    "Raporttia tutkimalla voi selvittää mallin suoriutumisen. Nopeita silmäyksiä varten [sekaannusmatriisi](https://scikit-learn.org/stable/modules/generated/sklearn.metrics.confusion_matrix.html#sklearn.metrics.confusion_matrix)\n",
    "voi antaa paremman kuvan."
   ],
   "metadata": {
    "collapsed": false,
    "pycharm": {
     "name": "#%% md\n"
    }
   }
  },
  {
   "cell_type": "code",
   "execution_count": 20,
   "outputs": [
    {
     "name": "stdout",
     "text": [
      "[[10  0  0]\n [ 0  9  1]\n [ 0  1  9]]\n"
     ],
     "output_type": "stream"
    }
   ],
   "source": [
    "from sklearn.metrics import confusion_matrix\n",
    "cm = confusion_matrix(y_test, y_pred)\n",
    "print(cm)\n"
   ],
   "metadata": {
    "collapsed": false,
    "pycharm": {
     "name": "#%%\n",
     "is_executing": false
    }
   }
  },
  {
   "cell_type": "markdown",
   "source": [
    "Selkeämpää esitystä varten piirretään myös graafinen versio sekaannusmatriisista"
   ],
   "metadata": {
    "collapsed": false
   }
  },
  {
   "cell_type": "code",
   "execution_count": 21,
   "outputs": [
    {
     "name": "stderr",
     "text": [
      "/home/joona/IdeaProjects/MLCourse/venv/forNb/lib/python3.6/site-packages/matplotlib/figure.py:2267: UserWarning: This figure includes Axes that are not compatible with tight_layout, so results might be incorrect.\n  warnings.warn(\"This figure includes Axes that are not compatible \"\n"
     ],
     "output_type": "stream"
    },
    {
     "data": {
      "text/plain": "<Figure size 576x288 with 2 Axes>",
      "image/png": "[encoded data removed]"
     },
     "metadata": {
      "needs_background": "light"
     },
     "output_type": "display_data"
    }
   ],
   "source": [
    "from utils import plot_confusion_matrix\n",
    "plot_confusion_matrix(cm, [0,1,2], list(dataset.target_names), normalize=False)\n"
   ],
   "metadata": {
    "collapsed": false,
    "pycharm": {
     "name": "#%%\n",
     "is_executing": false
    }
   }
  },
  {
   "cell_type": "markdown",
   "source": [
    "Jotta solujen arvoista voi lukea rivikohtaisen UA-arvon, matriisin voi normalisoida"
   ],
   "metadata": {
    "collapsed": false
   }
  },
  {
   "cell_type": "code",
   "execution_count": 22,
   "outputs": [
    {
     "name": "stdout",
     "text": [
      "Normalisoitu sekaannusmatriisi:\n [[1.  0.  0. ]\n [0.  0.9 0.1]\n [0.  0.1 0.9]]\n"
     ],
     "output_type": "stream"
    },
    {
     "data": {
      "text/plain": "<Figure size 576x288 with 2 Axes>",
      "image/png": "[encoded data removed]"
     },
     "metadata": {
      "needs_background": "light"
     },
     "output_type": "display_data"
    }
   ],
   "source": [
    "import numpy as np\n",
    "print(\"Normalisoitu sekaannusmatriisi:\\n\", cm.astype('float') / cm.sum(axis=1)[:, np.newaxis])\n",
    "plot_confusion_matrix(cm, [0,1,2], list(dataset.target_names), normalize=True)"
   ],
   "metadata": {
    "collapsed": false,
    "pycharm": {
     "name": "#%%\n",
     "is_executing": false
    }
   }
  },
  {
   "cell_type": "markdown",
   "source": [
    "Kokeile evaluointia muillakin algoritmeilla. Opeta ensin haluttu haluttu malli [Luokittelu](#Luokittelu)-kohdassa \n",
    "ja sen jälkeen luo `y_pred` kohdan [Ennusteiden luominen](#Ennusteiden-luominen) mukaan."
   ],
   "metadata": {
    "collapsed": false,
    "pycharm": {
     "name": "#%% md\n"
    }
   }
  },
  {
   "cell_type": "markdown",
   "source": [
    "## Hyperparametrien optimointi\n",
    "Tähän asti mallit on luotu käyttäen algoritmien oletusparametreja. Ovatko nämä kuitenkaan \n",
    "parhaat mahdolliset parametrit tähän ongelmaan?\n",
    "\n",
    "Kokeile löytää parhaat [SVM](https://scikit-learn.org/stable/modules/generated/sklearn.svm.SVC.html)-algoritmin \n",
    "parametrit `C` ja `gamma` γ, jotta saisit mahdollisimman korkean OA:n."
   ],
   "metadata": {
    "collapsed": false
   }
  },
  {
   "cell_type": "code",
   "execution_count": 23,
   "outputs": [
    {
     "name": "stdout",
     "text": [
      "OA: 0.9000\n"
     ],
     "output_type": "stream"
    },
    {
     "name": "stderr",
     "text": [
      "/home/joona/IdeaProjects/MLCourse/venv/forNb/lib/python3.6/site-packages/sklearn/svm/base.py:193: FutureWarning: The default value of gamma will change from 'auto' to 'scale' in version 0.22 to account better for unscaled features. Set gamma explicitly to 'auto' or 'scale' to avoid this warning.\n  \"avoid this warning.\", FutureWarning)\n"
     ],
     "output_type": "stream"
    }
   ],
   "source": [
    "from sklearn.svm import SVC\n",
    "# Käytä desimaaliarvoja molempien parametrien kanssa\n",
    "clf = SVC(C=0.1)\n",
    "clf.fit(X_train, y_train)\n",
    "print(\"OA: {:.4f}\".format(clf.score(X_test, y_test)))"
   ],
   "metadata": {
    "collapsed": false,
    "pycharm": {
     "name": "#%%\n",
     "is_executing": false
    }
   }
  },
  {
   "cell_type": "markdown",
   "source": [
    "Sen sijaan, että parametreja käytäisiin läpi manuaalisesti, niitä voi etsiä myös muilla tavoilla. [GridSearchCV](https://scikit-learn.org/stable/modules/generated/sklearn.model_selection.GridSearchCV.html)\n",
    "tarjoaa mahdollisuuden käydä läpi määritelty kombinaatio parametreja. Jos siis sen annetaan käydä parametrit C∈{1,10}\n",
    "ja γ∈{1,10}, käy etsijä läpi tilanteet, joissa (C=1 γ=1), (C=10 γ=1), (C=1 γ=10) ja (C=10 γ=10). Koska kyseessä \n",
    "on ristivalidointityyppinen (CV) etsijä, jokainen kombinaatio käydään ristivalidoinnin kanssa läpi. Oletuksena CV=3, \n",
    "joten yhteensä opetettuja malleja näillä parametreilla olisi 12."
   ],
   "metadata": {
    "collapsed": false
   }
  },
  {
   "cell_type": "code",
   "execution_count": 27,
   "outputs": [
    {
     "name": "stdout",
     "text": [
      "Parhaat parametrit:  {'C': 1, 'gamma': 1}\nParas opetus OA: 0.9583\nOA: 0.9667\n"
     ],
     "output_type": "stream"
    },
    {
     "name": "stderr",
     "text": [
      "/home/joona/IdeaProjects/MLCourse/venv/forNb/lib/python3.6/site-packages/sklearn/model_selection/_split.py:1978: FutureWarning: The default value of cv will change from 3 to 5 in version 0.22. Specify it explicitly to silence this warning.\n  warnings.warn(CV_WARNING, FutureWarning)\n/home/joona/IdeaProjects/MLCourse/venv/forNb/lib/python3.6/site-packages/sklearn/model_selection/_search.py:814: DeprecationWarning: The default of the `iid` parameter will change from True to False in version 0.22 and will be removed in 0.24. This will change numeric results when test-set sizes are unequal.\n  DeprecationWarning)\n"
     ],
     "output_type": "stream"
    }
   ],
   "source": [
    "from sklearn.model_selection import GridSearchCV\n",
    "parameters = {'C':[1,10,20], 'gamma':[1,10,100]}\n",
    "clf = GridSearchCV(SVC(), parameters)\n",
    "clf.fit(X_train, y_train)\n",
    "print(\"Parhaat parametrit: \", clf.best_params_)\n",
    "print(\"Paras opetus OA: {:.4f}\".format(clf.best_score_))\n",
    "print(\"OA: {:.4f}\".format(clf.score(X_test, y_test)))"
   ],
   "metadata": {
    "collapsed": false,
    "pycharm": {
     "name": "#%%\n",
     "is_executing": false
    }
   }
  },
  {
   "cell_type": "markdown",
   "source": [
    "Kun mahdollisia parametreja on enemmän, mutta GridSearchCV:n kanssa etsintä kävisi liian hitaaksi, mahdollisuus on \n",
    "valita vain osa parametreista sattuman avulla. [RandomizedSearchCV](https://scikit-learn.org/stable/modules/generated/sklearn.model_selection.RandomizedSearchCV.html)\n",
    "on oiva valinta tähän. `n_iter`-parametrin avulla hallitaan kokeiltujen parametrikombinaatioiden määrä. Yhteensä malleja \n",
    "opetetaan siis CV*n_iter"
   ],
   "metadata": {
    "collapsed": false,
    "pycharm": {
     "name": "#%% md\n"
    }
   }
  },
  {
   "cell_type": "code",
   "execution_count": 26,
   "outputs": [
    {
     "name": "stdout",
     "text": [
      "Parhaat parametrit:  {'gamma': 0.01, 'C': 100}\nParas opetus OA: 0.9750\nOA: 0.9667\n"
     ],
     "output_type": "stream"
    },
    {
     "name": "stderr",
     "text": [
      "/home/joona/IdeaProjects/MLCourse/venv/forNb/lib/python3.6/site-packages/sklearn/model_selection/_split.py:1978: FutureWarning: The default value of cv will change from 3 to 5 in version 0.22. Specify it explicitly to silence this warning.\n  warnings.warn(CV_WARNING, FutureWarning)\n/home/joona/IdeaProjects/MLCourse/venv/forNb/lib/python3.6/site-packages/sklearn/model_selection/_search.py:814: DeprecationWarning: The default of the `iid` parameter will change from True to False in version 0.22 and will be removed in 0.24. This will change numeric results when test-set sizes are unequal.\n  DeprecationWarning)\n"
     ],
     "output_type": "stream"
    }
   ],
   "source": [
    "from sklearn.model_selection import RandomizedSearchCV\n",
    "parameters = {'C':[10**-3,10**-2, 10**-1,10**0,10**1,10**2,10**3,10**3], \n",
    "              'gamma':[10**-3,10**-2, 10**-1,10**0,10**1,10**2,10**3]}\n",
    "clf = RandomizedSearchCV(SVC(), parameters, n_iter=20)\n",
    "clf.fit(X_train, y_train)\n",
    "print(\"Parhaat parametrit: \", clf.best_params_)\n",
    "print(\"Paras opetus OA: {:.4f}\".format(clf.best_score_))\n",
    "print(\"OA: {:.4f}\".format(clf.score(X_test, y_test)))"
   ],
   "metadata": {
    "collapsed": false,
    "pycharm": {
     "name": "#%%\n",
     "is_executing": false
    }
   }
  },
  {
   "cell_type": "markdown",
   "source": [
    "Hyperparametrioptimointia voi tehdä myös rinnakkain asettamalla parametrin `n_jobs`. Tämä onkin aina hyödyllistä asettaa,\n",
    "jos laskentakoneen tehot riittäisivät (jos eivät riitä, ehkä fiksua olisi suorittaa laskentaa toisella koneella).\n",
    "\n",
    "Hyperparametrioptimoinnin avuksi voi olla hyvä ottaa myös BayesSearchCV paketista \n",
    "[scikit-optimize](https://scikit-optimize.github.io/notebooks/sklearn-gridsearchcv-replacement.html).\n",
    "\n"
   ],
   "metadata": {
    "collapsed": false
   }
  },
  {
   "cell_type": "markdown",
   "source": [
    "## Regressio?\n",
    "\n"
   ],
   "metadata": {
    "collapsed": false,
    "pycharm": {
     "name": "#%% md\n"
    }
   }
  }
 ],
 "metadata": {
  "kernelspec": {
   "display_name": "Python 3",
   "language": "python",
   "name": "python3"
  },
  "language_info": {
   "codemirror_mode": {
    "name": "ipython",
    "version": 3
   },
   "file_extension": ".py",
   "mimetype": "text/x-python",
   "name": "python",
   "nbconvert_exporter": "python",
   "pygments_lexer": "ipython3",
   "version": "3.6.8"
  },
  "pycharm": {
   "stem_cell": {
    "cell_type": "raw",
    "source": [],
    "metadata": {
     "collapsed": false
    }
   }
  }
 },
 "nbformat": 4,
 "nbformat_minor": 2
}