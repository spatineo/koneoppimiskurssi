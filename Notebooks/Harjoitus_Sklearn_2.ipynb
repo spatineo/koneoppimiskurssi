{
 "cells": [
  {
   "cell_type": "markdown",
   "metadata": {
    "pycharm": {
     "name": "#%% md\n"
    }
   },
   "source": [
    "Scikit-learn harjoitus 2\n",
    "======================\n",
    "\n",
    "Tämän harjoituksen tarkoitus on opettaa hieman edistyksellisimpiä toimintoja.\n",
    "\n",
    "Asentaaksesi tarvittavat paketit omalla koneellasi harjoituksen suorittamista varten:\n",
    "```\n",
    "$ pip3 install scikit-learn pandas imbalanced-learn matplotlib==2.2.2\n",
    "```\n",
    "\n"
   ]
  },
  {
   "cell_type": "markdown",
   "metadata": {},
   "source": [
    "## Kuvien käyttäminen datana\n",
    "Aloita lataamalla harjoitusdata. Tällä kertaa käytetään [MNIST](https://en.wikipedia.org/wiki/MNIST_database)-aineistoa,\n",
    "joka sisältää käsinkirjoitettuja numeroita 0-9 8x8 pikselin kuvina."
   ]
  },
  {
   "cell_type": "code",
   "execution_count": 1,
   "metadata": {
    "pycharm": {
     "is_executing": false,
     "name": "#%%\n"
    }
   },
   "outputs": [],
   "source": [
    "import matplotlib.pyplot as plt\n",
    "from sklearn import datasets\n",
    "import numpy as np\n",
    "dataset = datasets.load_digits()\n",
    "\n",
    "# Näytetään ensimmäinen kuva\n",
    "plt.imshow(dataset.images[0], cmap=plt.cm.gray_r, interpolation='nearest')\n",
    "plt.title('Esimerkkikuva')\n",
    "plt.show()\n",
    "\n",
    "print(\"Esimerkkikuva pikseliarvoina: \\n\", dataset.images[0])\n",
    "\n",
    "# dataset-olio tarjoaa havainnot myös valmiiksi prosessoituna yhdeksi vektoriksi/listaksi\n",
    "print(\"Esimerkkikuva havaintovektorina: \\n\", dataset.data[0])\n"
   ]
  },
  {
   "cell_type": "markdown",
   "metadata": {},
   "source": [
    "Jotta kuvista, eli n*m-taulukoista päästään yksiulotteiseen havaintovektorimuotoon, ne pitää prosessoida."
   ]
  },
  {
   "cell_type": "code",
   "execution_count": 2,
   "metadata": {
    "pycharm": {
     "is_executing": false,
     "name": "#%%\n"
    }
   },
   "outputs": [],
   "source": [
    "n_samples = len(dataset.images)\n",
    "data = dataset.images.reshape((n_samples, -1))\n",
    "if np.array_equal(data, dataset.data):\n",
    "    print(\"Kuvat ovat nyt yksiulotteisia\")"
   ]
  },
  {
   "cell_type": "markdown",
   "metadata": {
    "pycharm": {
     "name": "#%% md\n"
    }
   },
   "source": [
    "Nyt edellistä harjoitusta hyväksi käyttäen suorita vaiheet ja luokittele malli haluamallasi algoritmilla \n",
    "ja parametreilla. Yritä päästä yleiseen tarkkuuteen OA>=0.9.\n",
    "\n",
    "Jaa luomasi X ja luokat y opetus- ja testijoukkoihin `X_train, X_test, y_train ja  y_test` siten, \n",
    "että testijoukon osuus on 20% ja opetusjoukon osuus on 80% havainnoista. \n",
    "Käytä jaossa `random_state`-parametrin arvona 42"
   ]
  },
  {
   "cell_type": "code",
   "execution_count": 3,
   "metadata": {
    "pycharm": {
     "name": "#%%\n"
    }
   },
   "outputs": [],
   "source": [
    "from sklearn.model_selection import train_test_split\n",
    "X = data\n",
    "y = dataset.target\n",
    "X_train, X_test, y_train, y_test = train_test_split(X, y, test_size=0.2, random_state=42) # TODO: None"
   ]
  },
  {
   "cell_type": "markdown",
   "metadata": {
    "pycharm": {
     "name": "#%%\n"
    }
   },
   "source": [
    "## Esikäsittely\n",
    "Suorita standardointi."
   ]
  },
  {
   "cell_type": "code",
   "execution_count": 4,
   "metadata": {
    "pycharm": {
     "name": "#%%\n"
    }
   },
   "outputs": [],
   "source": [
    "# Evaluoi\n",
    "from sklearn.metrics import classification_report\n",
    "from sklearn.metrics import confusion_matrix\n",
    "from utils import plot_confusion_matrix"
   ]
  },
  {
   "cell_type": "markdown",
   "metadata": {
    "pycharm": {
     "name": "#%% md\n"
    }
   },
   "source": [
    "## Epätasapainon korjaaminen\n",
    "Jos luokkien määrä havaintojen välillä on epätasapainossa, malli suosii helposti luokkia, joissa on enemmän havaintoja, kuin toisissa. Tämä on yksi koneoppimisen suurista ongelmista. Yksi keino hallita ongelmaa, on havaintojen resamplaus, eli havaintojen määrän muuttaminen opetusjoukossa siten, että luokkien välinen epätasapaino pienenisi.\n",
    "\n",
    "Tähän on kaksi menetelmää: \n",
    "* Oversample: Havaintojen lisääminen pienimpiin luokkiin\n",
    "* Undersample: Havaintojen poistaminen suurimmista luokista\n",
    "\n",
    "\n",
    "Molempiin menetelmiin on monta algoritmiä mainiossa [Imbalanced-learn](https://imbalanced-learn.readthedocs.io/en/stable/index.html)-kirjastossa.\n",
    "\n",
    "Luodaan aluksi epätasapainoinen opetusaineisto alkuperäisestä opetusaineistosta."
   ]
  },
  {
   "cell_type": "code",
   "execution_count": null,
   "metadata": {},
   "outputs": [],
   "source": [
    "from imblearn.datasets import make_imbalance\n",
    "from collections import Counter, OrderedDict\n",
    "\n",
    "sampling_strategy = {0: 50, 1: 154, 2: 144, 3: 70, 4: 135, 5: 135, 6: 80, 7: 145, 8: 144, 9: 60}\n",
    "X_train_imb, y_train_imb =  make_imbalance(X_train, y_train, sampling_strategy=sampling_strategy)\n",
    "\n",
    "print(\"Alkuperäinen jakauma\", dict(OrderedDict(sorted(Counter(y_train).items(), key=lambda t: t[0]))))\n",
    "print(\"Epätasapainoinen jakauma\", dict(OrderedDict(sorted(Counter(y_train_imb).items(), key=lambda t: t[0]))))"
   ]
  },
  {
   "cell_type": "markdown",
   "metadata": {},
   "source": [
    "Suorita yksinkertainen luokittelu molemmilla aineistoilla haluamallasi luokittelualgoritmilla."
   ]
  },
  {
   "cell_type": "code",
   "execution_count": 17,
   "metadata": {},
   "outputs": [],
   "source": [
    "from sklearn.svm import SVC\n",
    "clf = SVC()\n",
    "\n",
    "clf.fit(X_train, y_train)\n",
    "print(\"Alkuperäinen OA: {:.2f}\".format(clf.score(X_test, y_test)))\n",
    "\n",
    "clf.fit(X_train_imb, y_train_imb)\n",
    "print(\"Epätasapainoisen OA: {:.2f}\".format(clf.score(X_test, y_test)))"
   ]
  },
  {
   "cell_type": "markdown",
   "metadata": {},
   "source": [
    "Epätasapainon korjaamiseksi kokeillaan nyt molempia resample-menetelmiä. Käytä yksinkertaisia satunnaisuuteen perustuvia [RandomOverSampler](https://imbalanced-learn.readthedocs.io/en/stable/generated/imblearn.over_sampling.RandomOverSampler.html#imblearn.over_sampling.RandomOverSampler)- ja [RandomUnderSampler](https://imbalanced-learn.readthedocs.io/en/stable/generated/imblearn.under_sampling.RandomUnderSampler.html#imblearn.under_sampling.RandomUnderSampler)-luokkia."
   ]
  },
  {
   "cell_type": "code",
   "execution_count": 19,
   "metadata": {},
   "outputs": [],
   "source": [
    "from imblearn.over_sampling import RandomOverSampler\n",
    "from imblearn.under_sampling import RandomUnderSampler\n",
    "\n",
    "\n",
    "ros = RandomOverSampler()\n",
    "X_train_oversampled, y_train_oversampled = ros.fit_resample(X_train_imb, y_train_imb)\n",
    "rus = RandomUnderSampler()\n",
    "X_train_undersampled, y_train_underrsampled = rus.fit_resample(X_train_imb, y_train_imb)\n",
    "\n",
    "print(\"Jakauma oversamplen jälkeen\", \n",
    "      dict(OrderedDict(sorted(Counter(y_train_oversampled).items(), key=lambda t: t[0]))))\n",
    "print(\"Jakauma undersamplen jälkeen\",\n",
    "      dict(OrderedDict(sorted(Counter(y_train_underrsampled).items(), key=lambda t: t[0]))))\n",
    "\n",
    "clf.fit(X_train_oversampled, y_train_oversampled)\n",
    "print(\"Oversampled OA: {:.2f}\".format(clf.score(X_test, y_test)))\n",
    "\n",
    "clf.fit(X_train_undersampled, y_train_underrsampled)\n",
    "print(\"Undersampled OA: {:.2f}\".format(clf.score(X_test, y_test)))"
   ]
  },
  {
   "cell_type": "markdown",
   "metadata": {},
   "source": [
    "## Ristivalidointi\n",
    "Myös testijoukon ylisovitus on mahdollista kun mallia säädetään paljon. Tällöin on mahdollista käyttää kolmatta validointijoukkoa, mutta ristivalidointi on toinen (ja monesti parempi) vaihtoehto. Siinä käytetään hyväksi vain opetusjoukkoa, joka jaetaan osiin siten, että vuorollaan jokainen havainto on ristivalidoinnin sisäisessä opetusjoukossa ja vuorollaan testijoukossa. Näitä kutsutaan jaoiksi (engl. split). Tällöin oikeaa testijoukkoa voi säästää aivan viimeiseen säädetyn mallin validointiin saakka.\n",
    "\n",
    "Suorita alla yksinkertainen ristivalidointi käyttäen [`cross_val_score`](https://scikit-learn.org/stable/modules/generated/sklearn.model_selection.cross_val_score.html#sklearn.model_selection.cross_val_score)-metodia ja haluamaasi luokittelualgoritmia. Aseta `CV`-parametri arvoksi 5 ja `n_jobs`-parametri arvoon -1."
   ]
  },
  {
   "cell_type": "code",
   "execution_count": 13,
   "metadata": {
    "pycharm": {
     "name": "#%%\n"
    }
   },
   "outputs": [],
   "source": [
    "from sklearn.model_selection import cross_val_score\n",
    "from sklearn.svm import SVC\n",
    "clf = SVC(gamma=0.01)\n",
    "scores = cross_val_score(clf, X_train, y_train, cv=5, n_jobs=-1)\n",
    "print(\"Pisteet ovat:\")\n",
    "for oa in scores:\n",
    "    print(\"    OA: {:.2f}\".format(oa))"
   ]
  },
  {
   "cell_type": "markdown",
   "metadata": {},
   "source": [
    "`n_jobs`-parametri mahdollisti rinnakkaisen laskennan eri mallien välille. Tämä parametri löytyy jokaisesta ristivalidointia käyttävästä metodista ja myös joistain luokittelijoista, kuten Random Forest. Sitä suositellaan käytettäväksi aina kun on mahdollista, mutta harjoituksissa sen käyttöä on vältetty suorituskyvyn vuoksi."
   ]
  },
  {
   "cell_type": "markdown",
   "metadata": {
    "pycharm": {
     "name": "#%% md\n"
    }
   },
   "source": [
    "### Putkittaminen\n",
    "Ristivalidoinnissa datan esikäsittely, joka riippuu datasta, on hyvä suorittaa erikseen jokaiselle jaolle. Tämä on helpoin tehdä käyttämällä putkitusta ([pipelines](https://scikit-learn.org/stable/modules/compose.html#pipeline)). Sillä tavoin on mahdollista kytkeä paljon esikäsittelyvaiheita yhteen ja suorittaa vaiheet jokaisen jaon kohdalla. Putkitusta on syytä käyttää myös hyperparametrioptimoinnin kanssa.\n",
    "\n",
    "Suorita ensin äskeinen ristivalidointi uudestaan käyttäen moduulia [`Pipeline`](https://scikit-learn.org/stable/modules/generated/sklearn.pipeline.Pipeline.html#sklearn.pipeline.Pipeline) vaiheita [StandardScaler](https://scikit-learn.org/stable/modules/generated/sklearn.preprocessing.StandardScaler.html) ja [PCA](https://scikit-learn.org/stable/modules/generated/sklearn.decomposition.PCA.html), sekä haluaamasi luokittelualgoritmia. \n"
   ]
  },
  {
   "cell_type": "code",
   "execution_count": 18,
   "metadata": {},
   "outputs": [],
   "source": [
    "from sklearn.pipeline import Pipeline\n",
    "from sklearn.preprocessing import StandardScaler\n",
    "from sklearn.decomposition import PCA\n",
    "from sklearn.svm import SVC\n",
    "\n",
    "pipe = Pipeline([(\"standard_scaler\", StandardScaler()), (\"pca\", PCA()), (\"clf\", SVC(gamma=0.01))])\n",
    "scores = cross_val_score(pipe, X_train, y_train, cv=5, n_jobs=-1)\n",
    "print(\"Pisteet ovat:\")\n",
    "for oa in scores:\n",
    "    print(\"    OA: {:.2f}\".format(oa))"
   ]
  },
  {
   "cell_type": "markdown",
   "metadata": {},
   "source": [
    "Suorita sama uudestaan käyttäen helppokäyttöisempää metodia [make_pipeline](https://scikit-learn.org/stable/modules/generated/sklearn.pipeline.make_pipeline.html#sklearn.pipeline.make_pipeline)"
   ]
  },
  {
   "cell_type": "code",
   "execution_count": 20,
   "metadata": {},
   "outputs": [],
   "source": [
    "from sklearn.pipeline import make_pipeline\n",
    "pipe = make_pipeline(StandardScaler(), PCA(), SVC(gamma=0.01))\n",
    "scores = cross_val_score(pipe, X_train, y_train, cv=5, n_jobs=-1)\n",
    "print(\"Pisteet ovat:\")\n",
    "for oa in scores:\n",
    "    print(\"    OA: {:.2f}\".format(oa))"
   ]
  },
  {
   "cell_type": "markdown",
   "metadata": {},
   "source": [
    "Lue halutessasi lisää ristivalidoinnista [täältä](https://scikit-learn.org/stable/modules/cross_validation.html)."
   ]
  },
  {
   "cell_type": "markdown",
   "metadata": {
    "pycharm": {
     "name": "#%% md\n"
    }
   },
   "source": [
    "\n"
   ]
  }
 ],
 "metadata": {
  "kernelspec": {
   "display_name": "Python 3",
   "language": "python",
   "name": "python3"
  },
  "language_info": {
   "codemirror_mode": {
    "name": "ipython",
    "version": 3
   },
   "file_extension": ".py",
   "mimetype": "text/x-python",
   "name": "python",
   "nbconvert_exporter": "python",
   "pygments_lexer": "ipython3",
   "version": "3.6.8"
  },
  "pycharm": {
   "stem_cell": {
    "cell_type": "raw",
    "source": [],
    "metadata": {
     "collapsed": false
    }
   }
  }
 },
 "nbformat": 4,
 "nbformat_minor": 2
}