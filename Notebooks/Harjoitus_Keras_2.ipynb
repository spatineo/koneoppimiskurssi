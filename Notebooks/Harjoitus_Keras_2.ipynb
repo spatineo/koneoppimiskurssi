{
 "cells": [
  {
   "cell_type": "markdown",
   "metadata": {},
   "source": [
    "Keras (ja TensorFlow) jatkoa\n",
    "======================\n",
    "<img src=\"https://upload.wikimedia.org/wikipedia/commons/thumb/1/11/TensorFlowLogo.svg/1229px-TensorFlowLogo.svg.png\" \n",
    "alt=\"TensorFlow\" width=\"400\"/>\n",
    "![Keras](https://upload.wikimedia.org/wikipedia/commons/c/c9/Keras_Logo.jpg \"Keras\")\n",
    "\n",
    "Asentaaksesi tarvittavat paketit omalla koneellasi harjoituksen suorittamista varten:\n",
    "```\n",
    "$ pip3 install scikit-learn tensorflow==2.0.0rc1 numpy matplotlib==2.2.2\n",
    "```"
   ]
  },
  {
   "cell_type": "markdown",
   "metadata": {},
   "source": [
    "## Tekstin luokittelua\n",
    "Tämä harjoitus on muokattu käyttäen [tutoriaalia](https://www.tensorflow.org/tutorials/keras/basic_text_classification)\n",
    "\n",
    "\n",
    "\n",
    "### Aineiston lataus\n",
    "Tällä kertaa aineistona käytetään [imdb](https://keras.io/datasets/#imdb-movie-reviews-sentiment-classification)-aineistoa, \n",
    "joka sisältää sanallisia arvosteluja numeroiksi muutettuna ja luokkana on joko positiivinen tai negatiivinen arvostelu.\n",
    "\n",
    "**Ongelma**: Voiko arvostelun sävyn (positiivinen/negatiivinen) päätellä arvostelun tekstistä?\n",
    "\n",
    "Ladataan arvostelut siten, että sanaston suuruus on 10000, eli arvostelut sisältävät 10000 useiten käytettyä sanaa."
   ]
  },
  {
   "cell_type": "code",
   "execution_count": 30,
   "metadata": {},
   "outputs": [],
   "source": [
    "from tensorflow import keras\n",
    "imdb = keras.datasets.imdb\n",
    "(X_train, y_train), (X_test, y_test) = imdb.load_data(num_words=10000)"
   ]
  },
  {
   "cell_type": "markdown",
   "source": [
    "Tarkastele aluksi hieman aineistoa. "
   ],
   "metadata": {
    "collapsed": false
   }
  },
  {
   "cell_type": "code",
   "execution_count": 31,
   "metadata": {},
   "outputs": [],
   "source": [
    "# datan katselua\n",
    "print(\"Aineistojen koko: opetus:{}, testi:{}\".format(len(y_train), len(y_test)))\n",
    "print(\"Ensimmäinen havainto\", X_train[0])\n",
    "print(\"Ensimmäisten pituuksia\", [len(x) for x in X_train[:5]])"
   ]
  },
  {
   "cell_type": "markdown",
   "source": [
    "Kuten huomasitkin, arvostelu koostuukin sanojen sijaan numeroista. Imdb-aineisto sisältää kuitenkin sanaston,\n",
    "jonka avulla on mahdollista nähdä mitä alkuperäinen arvostelu pitää sisällään."
   ],
   "metadata": {
    "collapsed": false
   }
  },
  {
   "cell_type": "code",
   "execution_count": 32,
   "metadata": {},
   "outputs": [],
   "source": [
    "# Sanasto\n",
    "word_index = imdb.get_word_index()"
   ]
  },
  {
   "cell_type": "markdown",
   "source": [
    "Luodaan alle funktio, jonka avulla on mahdollisus kääntää arvostelu numeroista tekstiksi. \n",
    "Ensimäiset 4 numeroa on varattu sanastossa erikoistilainteisiin. \n",
    "* 0 on merkki, joka mallin tulee ignoroida\n",
    "* 1 kuvaa arvostelun alkua\n",
    "* 2 kuvaa tuntematonta sanaa\n",
    "* 3 on varattu muille\n",
    "\n",
    "Koska aineisto sisältää nyt vain 10000 yleisintä sanaa, merkkiä 2 näkyy niiden sanojen kohdalla, jotka eivät ole \n",
    "yleisimpien sanojen joukossa."
   ],
   "metadata": {
    "collapsed": false
   }
  },
  {
   "cell_type": "code",
   "execution_count": 33,
   "metadata": {},
   "outputs": [],
   "source": [
    "word_index = {k:(v+3) for k,v in word_index.items()}\n",
    "word_index[\"<PAD>\"] = 0\n",
    "word_index[\"<START>\"] = 1\n",
    "word_index[\"<UNKNOWN>\"] = 2\n",
    "word_index[\"<UNUSED>\"] = 3\n",
    "\n",
    "reverse_index = {v: k for (k, v) in word_index.items()}\n",
    "\n",
    "def translate(sample):\n",
    "    return ' '.join([reverse_index.get(i, '<not found>') for i in sample])"
   ]
  },
  {
   "cell_type": "code",
   "execution_count": 34,
   "metadata": {},
   "outputs": [],
   "source": [
    "print(\"Ensimmäinen havainto sanoina:\\n\", translate(X_train[0]))"
   ]
  },
  {
   "cell_type": "markdown",
   "source": [
    "### Aineiston esikäsittelyä\n",
    "Koska osa arvosteluista on eripituisia, ne on muutettava samanpituisiksi ennen luokittelua.\n",
    "\n",
    "Yksi tapa tehdä tämä on lisätä arvostelun alkuun tai loppuun niin monta ignoroitavaa merkkiä (`word_index[\"<PAD>\"]`,\n",
    "eli 0), että kaikkien arvostelujen pituudet ovat samat. Mallille kerrotaan myöhemmin, että sitä \n",
    "arvoa ei tule ottaa huomioon. \n",
    "\n",
    "Toinen vaihtoehto on jättää pisimpien arvostelujen viimeisiä sanoja pois ja rajata kaikkien arvosteluen pituus\n",
    "lyhimmän mukaan.\n",
    "\n",
    "Nämä kaksi tapaa voi myös yhdistää. Silloin lyhimpien loppuun lisätään ignoroitavia merkkejä tiettyyn määrään asti,\n",
    "ja niistä arvosteluista, jotka ylittävät tämän määrän, voidaan jättää ylimenevät merkit pois. Tähän tarkoitukseen \n",
    "soveltuu mainiosti metodi [pad_sequences](https://keras.io/preprocessing/sequence/#pad_sequences) \n",
    "\n",
    "Muodosta uudet `X_train_padded` ja `X_test_padded` siten, että lisäät ignoroitavia merkkejä loppuun ja siten, että\n",
    "maksimipituudeksi tulee 256."
   ],
   "metadata": {
    "collapsed": false,
    "pycharm": {
     "name": "#%% md\n"
    }
   }
  },
  {
   "cell_type": "code",
   "execution_count": 36,
   "metadata": {},
   "outputs": [],
   "source": [
    "X_train_padded = keras.preprocessing.sequence.pad_sequences(X_train,\n",
    "                                            value=word_index[\"<PAD>\"],\n",
    "                                            padding='post',\n",
    "                                            maxlen=256)"
   ]
  },
  {
   "cell_type": "code",
   "execution_count": 37,
   "metadata": {},
   "outputs": [],
   "source": [
    "X_test_padded = keras.preprocessing.sequence.pad_sequences(X_test,\n",
    "                                            value=word_index[\"<PAD>\"],\n",
    "                                            padding='post',\n",
    "                                            maxlen=256)\n",
    "\n",
    "print(X_train_padded[0])\n",
    "print(translate(X_train_padded[0]))"
   ]
  },
  {
   "cell_type": "markdown",
   "source": [
    "## Mallin luominen\n",
    "Jaa seuraavaksi opetusjoukko vielä erikseen opetus- ja validointijoukkouhin käyttäen \n",
    "[`train_test_split`](https://scikit-learn.org/stable/modules/generated/sklearn.model_selection.train_test_split.html)-metodia \n",
    "siten, että opetusjoukon osuus on 80% ja validointijoukon osuus on 20% alkuperäisen opetusjoukon koosta. \n",
    "\n",
    "Validointijoukkoa käytetään tässä opetuksen aikaiseen seuraamiseen."
   ],
   "metadata": {
    "collapsed": false,
    "pycharm": {
     "name": "#%% md\n"
    }
   }
  },
  {
   "cell_type": "code",
   "execution_count": 39,
   "metadata": {},
   "outputs": [],
   "source": [
    "from sklearn.model_selection import train_test_split\n",
    "X_train, X_val, y_train, y_val = train_test_split(X_train_padded, y_train, test_size=0.2, random_state=42)"
   ]
  },
  {
   "cell_type": "markdown",
   "source": [
    "Luo ja kokoa malli `create_model`-funktion avulla. Käytä ensimmäisen harjoituksen tapaan [Sequential](https://keras.io/getting-started/sequential-model-guide/)\n",
    "-luokkaa.\n",
    "\n",
    "Luo neuronitasot seuraavasti:\n",
    "1. Ensimmäinen taso on [Embedding](https://keras.io/layers/embeddings/#embedding), jonka avulla on mahdollista luoda\n",
    "   sulautettu moniulotteinen Dense-taso sanaston koon perusteella. Anna `input_dim` arvoksi sanaston koko ja `output_dim` \n",
    "   arvoksi haluamasi Dense-tason koko (esimerkiksi 16).\n",
    "2. Toinen taso on [GlobalAveragePooling1D](https://keras.io/layers/pooling/#globalaveragepooling1d), joka \n",
    "3. Kolmanneksi tasoksi aseta [Dense](https://keras.io/layers/core/#Dense) ja sen kooksi haluamasi koko. \n",
    "   Aseta sen aktivointifunktioksi \"relu\"\n",
    "4. Voit asettaa lisää Dense-tasoja halutessasi \n",
    "5. Viimeiseksi tasoksi aseta [Dense](https://keras.io/layers/core/#Dense). Koska luokkia on vain kaksi, voidaan 'softmax'-\n",
    "   aktivointifunktion sijaan käyttää 'sigmoid'-funktiota, joka palauttaa (todennäköisyysarvoksikin tulkittavan) luvun\n",
    "    0-1 väliltä. Tällöin tason kooksi asetetaan 1.\n",
    "\n",
    "Mallin kokoamiseksi käytä optimointifunktiona 'adam'-funktiota ja häviöfunktiona 'binary_crossentropy'-funktiota, \n",
    "sillä kyseessä on kahden luokan luokitteluongelma ja viimeinen taso antaa todennäköisyysarvon. \n",
    "\n",
    "Käytä `\"accuracy\"`-metriikka opetuksen seuraamiseksi."
   ],
   "metadata": {
    "collapsed": false
   }
  },
  {
   "cell_type": "code",
   "execution_count": 44,
   "metadata": {},
   "outputs": [],
   "source": [
    "def create_model():\n",
    "    model = keras.models.Sequential()\n",
    "    model.add(keras.layers.Embedding(10000, 16))\n",
    "    model.add(keras.layers.GlobalAveragePooling1D())\n",
    "    model.add(keras.layers.Dense(16, activation=\"relu\"))\n",
    "    model.add(keras.layers.Dense(1, activation=\"sigmoid\"))\n",
    "    \n",
    "    print(model.summary())\n",
    "    \n",
    "    model.compile(optimizer='adam',\n",
    "              loss='binary_crossentropy',\n",
    "              metrics=['acc'])\n",
    "    return model"
   ]
  },
  {
   "cell_type": "markdown",
   "source": [
    "## Opetaaminen\n",
    "Opeta nyt luomasi malli käyttäen `validation_data`-parametrina validointijoukkoa `(X_val, y_val)`. Aseta `batch_size`-\n",
    "ja `epoch`-parametrit haluamiksesi."
   ],
   "metadata": {
    "collapsed": false
   }
  },
  {
   "cell_type": "code",
   "execution_count": 46,
   "metadata": {},
   "outputs": [],
   "source": [
    "model = create_model()\n",
    "history = model.fit(X_train,\n",
    "                    y_train,\n",
    "                    epochs=2,\n",
    "                    batch_size=512,\n",
    "                    validation_data=(X_val, y_val),\n",
    "                    verbose=1)"
   ]
  },
  {
   "cell_type": "markdown",
   "source": [
    "## Evaluoiminen\n",
    "Evaluoi nyt luomasi malli käyttäen 1000 ensimmäistä testijoukon havaintoa."
   ],
   "metadata": {
    "collapsed": false
   }
  },
  {
   "cell_type": "code",
   "execution_count": 48,
   "metadata": {
    "pycharm": {
     "name": "#%%\n"
    }
   },
   "outputs": [],
   "source": [
    "evaluation = model.evaluate(X_test[:1000], y_test[:1000], batch_size=100)\n",
    "print(\"Testijoukon häviö: {:.4f} OA: {:.4f}\".format(evaluation[0], evaluation[1]))\n",
    "\n",
    "\n"
   ]
  }
 ],
 "metadata": {
  "kernelspec": {
   "display_name": "Python 3",
   "language": "python",
   "name": "python3"
  },
  "language_info": {
   "codemirror_mode": {
    "name": "ipython",
    "version": 3
   },
   "file_extension": ".py",
   "mimetype": "text/x-python",
   "name": "python",
   "nbconvert_exporter": "python",
   "pygments_lexer": "ipython3",
   "version": "3.6.8"
  },
  "pycharm": {
   "stem_cell": {
    "cell_type": "raw",
    "source": [],
    "metadata": {
     "collapsed": false
    }
   }
  }
 },
 "nbformat": 4,
 "nbformat_minor": 2
}