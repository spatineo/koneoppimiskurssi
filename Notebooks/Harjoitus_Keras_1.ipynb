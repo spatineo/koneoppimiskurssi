{
 "cells": [
  {
   "cell_type": "markdown",
   "metadata": {
    "pycharm": {
     "is_executing": false,
     "name": "#%% md\n"
    }
   },
   "source": [
    "Keras (ja TensorFlow) perusteet\n",
    "======================\n",
    "<img src=\"https://upload.wikimedia.org/wikipedia/commons/thumb/1/11/TensorFlowLogo.svg/1229px-TensorFlowLogo.svg.png\" \n",
    "alt=\"TensorFlow\" width=\"400\"/>\n",
    "![Keras](https://upload.wikimedia.org/wikipedia/commons/c/c9/Keras_Logo.jpg \"Keras\")\n",
    "\n",
    "Asentaaksesi tarvittavat paketit omalla koneellasi harjoituksen suorittamista varten:\n",
    "```\n",
    "$ pip3 install scikit-learn pandas tensorflow numpy matplotlib==2.2.2\n",
    "```"
   ]
  },
  {
   "cell_type": "markdown",
   "metadata": {},
   "source": [
    "## Keras\n",
    "Nykyisellään TensorFlow suosittelee aloittelijoita lähtemään liikkeelle juuri [Keras](https://keras.io/)-API:n avulla. Keras sisältää kaksi hieman erityyppistä lähestymistapaa neuroverkkoihin: \n",
    "* [Sequential](https://keras.io/getting-started/sequential-model-guide/) on yksinkertaisempi, lineaarinen kasa neurotasoja. Tässä harjoituksessa keskitytään Sequential-API:in.\n",
    "* [Functional](https://keras.io/getting-started/functional-api-guide/) mahdollistaa monmimutkaisempien mallien rakentamisen, muun muassa mahdollistamalla useampia syöte- ja tulostetasoja\n",
    "\n",
    "Koska tässä harjoituksessa käytetään Kerasta TensoFlow:n kautta, Keras-dokumentaatiosta poiketen moduulien import-lauseet ovat hieman erilaiset. Esimerkiksi sen sijaan, että kirjoitettaisiin \n",
    "``` python\n",
    "from keras.layers import Dense\n",
    "layer = Dense(32, input_shape=(784,))\n",
    "```\n",
    "kirjoitetaankin\n",
    "``` python\n",
    "from tensorflow import keras\n",
    "layer = keras.layers.Dense(32, input_shape=(784,))\n",
    "```\n",
    "\n",
    "## Yksinkertainen neuroverkko\n",
    "Aluksi tehdään yksinkertainen luokittelu käyttäen hyväksi jo tutuksi tullutta [MNIST](https://en.wikipedia.org/wiki/MNIST_database)-aineistoa,joka sisältää käsinkirjoitettuja numeroita 0-9 kuvina. Lataa aineisto ja jaa se opetus- ja testijoukkoihin `X_train, X_test, y_train ja  y_test` siten, \n",
    "että testijoukon osuus on 20% ja opetusjoukon osuus on 80% havainnoista. Tällä kertaa käytä suoraan kuvia `dataset.images` äläkä yksiulotteisia havaintovektoreita `dataset.data`, sillä prosessointi tehdään myöhemmin."
   ]
  },
  {
   "cell_type": "code",
   "execution_count": 31,
   "metadata": {},
   "outputs": [],
   "source": [
    "# TODO: None\n",
    "from sklearn import datasets\n",
    "from sklearn.model_selection import train_test_split\n",
    "dataset = datasets.load_digits()\n",
    "X = dataset.images\n",
    "y = dataset.target\n",
    "\n",
    "X_train, X_test, y_train, y_test = train_test_split(X, y, test_size=0.2, random_state=42) # TODO: None"
   ]
  },
  {
   "cell_type": "markdown",
   "metadata": {},
   "source": [
    "Luo aluksi pelkkä [Sequential](https://keras.io/getting-started/sequential-model-guide/)-malli, johon myöhemmin lisätään tasoja `.add()`-metodilla."
   ]
  },
  {
   "cell_type": "code",
   "execution_count": 32,
   "metadata": {},
   "outputs": [],
   "source": [
    "from tensorflow import keras\n",
    "# TODO: None\n",
    "model = keras.models.Sequential()"
   ]
  },
  {
   "cell_type": "markdown",
   "metadata": {},
   "source": [
    "Jotta mallin syötetaso ottaisi vastaan suoraan kaksiulotteisia kuvia, lisää malliin syötetaso, joka litistää havainnot yksiuloitteisiksi. Käytä tähän [Flatten](https://keras.io/layers/core/#flatten)-tasoa ja aseta sen `input_shape`-parametriksi pikseleiden koko. `input_shape`-parametria käytetään malleissa vain ensimmäisessä tasossa, jonka jälkeen malli osaa päätellä sen myöhemmissä tasoissa. Vinkki: saat yksittäisen kuvan koon selville `.shape`-metodilla.  "
   ]
  },
  {
   "cell_type": "code",
   "execution_count": 33,
   "metadata": {},
   "outputs": [],
   "source": [
    "# TODO: None\n",
    "# Lisää model-olioon taso\n",
    "model.add(keras.layers.Flatten(input_shape=(8, 8)))"
   ]
  },
  {
   "cell_type": "markdown",
   "metadata": {},
   "source": [
    "Seuraavaksi lisää [Dense](https://keras.io/layers/core/#Dense)-taso, joka on yksinkertainen halutun kokoinen neuraalotaso. Aseta tason kooksi 100 ja lisää sille aktivointifunktioksi `\"relu\"` `activation`-parametrin avulla. Katso lisätietoja [dokumentaatiosta](https://keras.io/activations/) "
   ]
  },
  {
   "cell_type": "code",
   "execution_count": 34,
   "metadata": {},
   "outputs": [],
   "source": [
    "# TODO: None\n",
    "# Lisää model-olioon taso\n",
    "model.add(keras.layers.Dense(100, activation=\"relu\"))"
   ]
  },
  {
   "cell_type": "markdown",
   "metadata": {},
   "source": [
    "Ylisovituksen estämiseksi malleille voi olla hyvä lisätä [Dropout](https://keras.io/layers/core/#dropout)-taso. Tämä taso muuttaa satunnaisesti tietyn prosenttiosuuden painotuksista nollaksi opetusiteraatioiden aikana. Aseta pudotuksen asteeksi 0.2."
   ]
  },
  {
   "cell_type": "code",
   "execution_count": 35,
   "metadata": {},
   "outputs": [],
   "source": [
    "# Lisää model-olioon taso\n",
    "model.add(keras.layers.Dropout(0.2))"
   ]
  },
  {
   "cell_type": "markdown",
   "metadata": {},
   "source": [
    "Mallille kerrottiin aluksi havaintojen koko `input_shape`-parametrilla ensimmäisessä tasossa. Samalla tavalla myös viimeisen tason haluttu koko on kerrottava mallille. Luokitteluongelmissa koko on tyypillisesti luokkien määrä. Painotukset halutaan kuitenkin muuttaa järkevästi tulkittaviksi, esimerkiksi todennäköisyysarvoiksi. Luokittelussa halutaan, että suurimman todennäköisyyden saanut luokka on luokittelutulos ja että kaikkien luokkien todennäköisyyslukemien summa olisi 1 jokaisella havainnolla. Tähän soveltuu mainiosti matemaattisesti [softmax](https://en.wikipedia.org/wiki/Softmax_function)-funktio.\n",
    "\n",
    "Lisää siis viimeiseksi tasoksi [Dense](https://keras.io/layers/core/#Dense)-taso, sen kooksi haluttu luokkien lukumäärä ja sen aktivointifunktioksi `\"softmax\"`."
   ]
  },
  {
   "cell_type": "code",
   "execution_count": 36,
   "metadata": {},
   "outputs": [],
   "source": [
    "# Lisää model-olioon taso\n",
    "model.add(keras.layers.Dense(10, activation=\"softmax\"))"
   ]
  },
  {
   "cell_type": "markdown",
   "metadata": {},
   "source": [
    "Malli on nyt valmis! Ennen opettamista malli täytyy vielä [koota](https://keras.io/models/sequential/#compile) (engl. compile) sopivan optimointifunktion ja häviöfunktion avulla. Käytetään tässä optimointifunktiona suosittua [`adam`](https://keras.io/optimizers/#adam)-funktiota.\n",
    "\n",
    "Luokitteluongelman häviöfunktioksi sopii tyypillisesti joko [categorical_crossentropy](https://keras.io/losses/#categorical_crossentropy) tai [sparse_categorical_crossentropy](https://keras.io/losses/#sparse_categorical_crossentropy) riippuen siitä, missä muodossa data luokat ovat. Tähän asti luokat ovat olleet vain yksittäisiä numeroita. One-hot -koodaustapaa käytettäessä luokka ilmoitetaan eri tavalla indeksin avulla. Esimerkiksi aiemmin käytetyllä tavalla luokkien joukko [0, 2, 1] esitettäisiin one-hot -koodaustavalla:`[1 0 0],  [0 0 1], [0 1 0]`. One-hot pyrkii siis hävittämään  One-hot -koodaustavan tapauksessa `\"categorical_crossentropy\"` olisi soveltuva häviöfunktio, `\"sparse_categorical_crossentropy\"` taas sopii perinteiseen tapaan. \n",
    "\n",
    "Häviön lisäksi malli myös laskee metriikoita opetuksen edetessä. Tyypillisesti `\"accuracy\"`-metriikka riittää. Se kuvaa yleistä tarkkuutta OA.\n"
   ]
  },
  {
   "cell_type": "code",
   "execution_count": 85,
   "metadata": {},
   "outputs": [
    {
     "name": "stdout",
     "output_type": "stream",
     "text": [
      "Model: \"sequential_34\"\n",
      "_________________________________________________________________\n",
      "Layer (type)                 Output Shape              Param #   \n",
      "=================================================================\n",
      "flatten_34 (Flatten)         (None, 64)                0         \n",
      "_________________________________________________________________\n",
      "dense_69 (Dense)             (None, 100)               6500      \n",
      "_________________________________________________________________\n",
      "dropout_34 (Dropout)         (None, 100)               0         \n",
      "_________________________________________________________________\n",
      "dense_70 (Dense)             (None, 10)                1010      \n",
      "=================================================================\n",
      "Total params: 7,510\n",
      "Trainable params: 7,510\n",
      "Non-trainable params: 0\n",
      "_________________________________________________________________\n",
      "None\n"
     ]
    }
   ],
   "source": [
    "# Kokoa model-olio\n",
    "model.compile(optimizer='adam',\n",
    "              loss='sparse_categorical_crossentropy',\n",
    "              metrics=['accuracy'])\n",
    "print(model.summary())"
   ]
  },
  {
   "cell_type": "markdown",
   "metadata": {},
   "source": [
    "### Opettaminen\n",
    "Mallin voi nyt opettaa. Tämä tehdään jo scikit-learn:ista tutulla `.fit()`-metodilla. Ylimääräiseksi parametriksi annetaan kuitenkin `epochs`, joka määrittää opetuksen keston koko opetusaineiston iteraatioina. Eli jos `epochs=10`, malli pääsee näkemään jokaisen opetusaineiston havainnon 10 kertaa opetuksen aikana. Liian suuri arvo voi johtaa ylisovitukseen ja liian pieni taas alisovitukseen. Valinnaisena parametrina voi antaa myös parametrin `batch_size`, eli erän koko. Erän koko kuva sitä kuinka kuinka monta havaintoa käsitellään kerrallaan. Siinä taas liian pieni arvo johtaa hitaaseen oppimiseen ja liian suuri taas voi johtaa alisovitukseen tai suorituskykyongelmiin.\n",
    "\n",
    "Mallin opettaminen tulostaa ruudulle jatkuvasti häviön ja tarkkuuden arvoa. Nämä kuvaavat siis kyseisen epookin sisällä opetusjoukon sisäistä häviötä ja tarkkuutta. Mitä pienempi häviö ja mitä suurempi tarkkuus, niin sitä parempi malli pitäisi olla. Kuitenkin näitä arvoja ei pidä sekoittaa testausaineistolla tehtävään evaluointiin ja vasta opetuksen jälkeinen evaluointi kertoo mallin kyvystä yleistyä ongelmaan.Jos näyttää siltä, ettei häviö pienene epookkien välillä, epookkeja saattaa olla liikaa.\n",
    "\n",
    "\n",
    "Opeta malli opetusjoukolla käyttäen 5 epookkia ja erän kokona 50 havaintoa."
   ]
  },
  {
   "cell_type": "code",
   "execution_count": 89,
   "metadata": {},
   "outputs": [
    {
     "name": "stdout",
     "output_type": "stream",
     "text": [
      "Epoch 1/5\n",
      "1437/1437 [==============================] - 1s 963us/sample - loss: 0.3897 - acc: 0.8685\n",
      "Epoch 2/5\n",
      "1437/1437 [==============================] - 0s 180us/sample - loss: 0.2901 - acc: 0.9047\n",
      "Epoch 3/5\n",
      "1437/1437 [==============================] - 0s 145us/sample - loss: 0.2699 - acc: 0.9081\n",
      "Epoch 4/5\n",
      "1437/1437 [==============================] - 0s 204us/sample - loss: 0.2209 - acc: 0.9276\n",
      "Epoch 5/5\n",
      "1437/1437 [==============================] - 0s 142us/sample - loss: 0.2129 - acc: 0.9269\n"
     ]
    }
   ],
   "source": [
    "# Opeta model-olio\n",
    "history = model.fit(X_train, y_train, epochs=5, batch_size=50)"
   ]
  },
  {
   "cell_type": "markdown",
   "metadata": {},
   "source": [
    "Opettaminen palauttaa `history`-olion, jota voi analysoida."
   ]
  },
  {
   "cell_type": "code",
   "execution_count": 103,
   "metadata": {},
   "outputs": [
    {
     "data": {
      "text/html": [
       "<div>\n",
       "<style scoped>\n",
       "    .dataframe tbody tr th:only-of-type {\n",
       "        vertical-align: middle;\n",
       "    }\n",
       "\n",
       "    .dataframe tbody tr th {\n",
       "        vertical-align: top;\n",
       "    }\n",
       "\n",
       "    .dataframe thead th {\n",
       "        text-align: right;\n",
       "    }\n",
       "</style>\n",
       "<table border=\"1\" class=\"dataframe\">\n",
       "  <thead>\n",
       "    <tr style=\"text-align: right;\">\n",
       "      <th></th>\n",
       "      <th>loss</th>\n",
       "      <th>acc</th>\n",
       "    </tr>\n",
       "    <tr>\n",
       "      <th>epoch</th>\n",
       "      <th></th>\n",
       "      <th></th>\n",
       "    </tr>\n",
       "  </thead>\n",
       "  <tbody>\n",
       "    <tr>\n",
       "      <td>0</td>\n",
       "      <td>0.389727</td>\n",
       "      <td>0.868476</td>\n",
       "    </tr>\n",
       "    <tr>\n",
       "      <td>1</td>\n",
       "      <td>0.290116</td>\n",
       "      <td>0.904662</td>\n",
       "    </tr>\n",
       "    <tr>\n",
       "      <td>2</td>\n",
       "      <td>0.269940</td>\n",
       "      <td>0.908142</td>\n",
       "    </tr>\n",
       "    <tr>\n",
       "      <td>3</td>\n",
       "      <td>0.220885</td>\n",
       "      <td>0.927627</td>\n",
       "    </tr>\n",
       "    <tr>\n",
       "      <td>4</td>\n",
       "      <td>0.212890</td>\n",
       "      <td>0.926931</td>\n",
       "    </tr>\n",
       "  </tbody>\n",
       "</table>\n",
       "</div>"
      ],
      "text/plain": [
       "           loss       acc\n",
       "epoch                    \n",
       "0      0.389727  0.868476\n",
       "1      0.290116  0.904662\n",
       "2      0.269940  0.908142\n",
       "3      0.220885  0.927627\n",
       "4      0.212890  0.926931"
      ]
     },
     "execution_count": 103,
     "metadata": {},
     "output_type": "execute_result"
    }
   ],
   "source": [
    "import pandas as pd\n",
    "hist = pd.DataFrame(history.history)\n",
    "hist['epoch'] = history.epoch\n",
    "hist = hist.set_index('epoch')\n",
    "hist"
   ]
  },
  {
   "cell_type": "code",
   "execution_count": 104,
   "metadata": {},
   "outputs": [
    {
     "data": {
      "image/png": "[encoded data removed]",
      "text/plain": [
       "<Figure size 432x288 with 1 Axes>"
      ]
     },
     "metadata": {
      "needs_background": "light"
     },
     "output_type": "display_data"
    }
   ],
   "source": [
    "import matplotlib.pyplot as plt\n",
    "\n",
    "plt.plot(hist[\"acc\"])\n",
    "plt.title('Mallin tarkkuus')\n",
    "plt.ylabel('OA')\n",
    "plt.xlabel('Epookki')\n",
    "plt.show()"
   ]
  },
  {
   "cell_type": "code",
   "execution_count": 105,
   "metadata": {},
   "outputs": [
    {
     "data": {
      "image/png": "[encoded data removed]",
      "text/plain": [
       "<Figure size 432x288 with 1 Axes>"
      ]
     },
     "metadata": {
      "needs_background": "light"
     },
     "output_type": "display_data"
    }
   ],
   "source": [
    "plt.plot(hist[\"loss\"])\n",
    "plt.title('Mallin häviö')\n",
    "plt.ylabel('Häviö')\n",
    "plt.xlabel('Epookki')\n",
    "plt.show()"
   ]
  },
  {
   "cell_type": "markdown",
   "metadata": {},
   "source": [
    "### Testaaminen\n",
    "Mallin testaamiseksi voit käyttää `evaluate()`-metodia samaan tyyliin, kuin scikit-learn -luokittelijoissa `clf.score()`-funktiota.\n"
   ]
  },
  {
   "cell_type": "code",
   "execution_count": 44,
   "metadata": {},
   "outputs": [
    {
     "name": "stdout",
     "output_type": "stream",
     "text": [
      "360/360 [==============================] - 0s 176us/sample - loss: 0.2298 - acc: 0.9222\n",
      "Testijoukon häviö: 0.2298 OA: 0.9222\n"
     ]
    }
   ],
   "source": [
    "# Evaluoi malli\n",
    "evaluation = model.evaluate(X_test, y_test)\n",
    "print(\"Testijoukon häviö: {:.4f} OA: {:.4f}\".format(evaluation[0], evaluation[1]))"
   ]
  },
  {
   "cell_type": "markdown",
   "metadata": {},
   "source": [
    "Voit myös käyttää scikit-learn -kirjaston evaluointitekniikoita. Muodosta aluksi `y_pred` aineisto mallin avulla käyttäen `.predict()`-metodia."
   ]
  },
  {
   "cell_type": "code",
   "execution_count": 61,
   "metadata": {},
   "outputs": [
    {
     "name": "stdout",
     "output_type": "stream",
     "text": [
      "Ensimmäinen alkio: [1.05e-05 2.18e-06 7.23e-08 1.15e-06 1.24e-04 3.47e-06 9.99e-01 6.01e-07\n",
      " 6.49e-04 2.17e-05]\n"
     ]
    }
   ],
   "source": [
    "y_pred = model.predict(X_test)\n",
    "print(\"Ensimmäinen alkio:\", y_pred[0])"
   ]
  },
  {
   "cell_type": "markdown",
   "metadata": {},
   "source": [
    "Tarkastelemalla `y_pred`-oliota huomaat, että yksittäinen alkio onkin luokan sijasta lista todennäköisyyksiä. Ensimmäinen luku on luokan 0 todennäköisyys, toinen luku luokan 1 todennäköisyys ja niin edelleen. Luokitellun luokan saamiseksi on siis otettava suurimman todennäköisyyden saaneen indeksi. Tähän voi käyttää [`np.argmax()`](https://docs.scipy.org/doc/numpy/reference/generated/numpy.argmax.html)-metodia."
   ]
  },
  {
   "cell_type": "code",
   "execution_count": 62,
   "metadata": {},
   "outputs": [
    {
     "name": "stdout",
     "output_type": "stream",
     "text": [
      "Suurimman todennäköisyyden saanut luokka: 6, sen saama todennäköisyys: 0.9992\n"
     ]
    }
   ],
   "source": [
    "import numpy as np\n",
    "y_pred_probs = y_pred\n",
    "y_pred = np.argmax(y_pred_probs, axis=1)\n",
    "print(\"Suurimman todennäköisyyden saanut luokka: {}, sen saama todennäköisyys: {:.4f}\".format(\n",
    "    y_pred[0], y_pred_probs[0][y_pred[0]]))"
   ]
  },
  {
   "cell_type": "markdown",
   "metadata": {},
   "source": [
    "Muodosta luokitteluraportti ja sekaannusmatriisi."
   ]
  },
  {
   "cell_type": "code",
   "execution_count": 65,
   "metadata": {},
   "outputs": [
    {
     "name": "stdout",
     "output_type": "stream",
     "text": [
      "              precision    recall  f1-score   support\n",
      "\n",
      "           0       0.97      0.94      0.95        33\n",
      "           1       0.87      0.93      0.90        28\n",
      "           2       0.91      0.94      0.93        33\n",
      "           3       0.97      0.88      0.92        34\n",
      "           4       0.96      1.00      0.98        46\n",
      "           5       0.93      0.87      0.90        47\n",
      "           6       0.97      0.97      0.97        35\n",
      "           7       0.92      0.97      0.94        34\n",
      "           8       0.92      0.80      0.86        30\n",
      "           9       0.82      0.90      0.86        40\n",
      "\n",
      "    accuracy                           0.92       360\n",
      "   macro avg       0.92      0.92      0.92       360\n",
      "weighted avg       0.92      0.92      0.92       360\n",
      "\n"
     ]
    },
    {
     "data": {
      "image/png": "[encoded data removed]",
      "text/plain": [
       "<Figure size 576x288 with 2 Axes>"
      ]
     },
     "metadata": {
      "needs_background": "light"
     },
     "output_type": "display_data"
    }
   ],
   "source": [
    "from sklearn.metrics import classification_report, confusion_matrix\n",
    "from utils import plot_confusion_matrix\n",
    "\n",
    "report = classification_report(y_test, y_pred)\n",
    "cm = confusion_matrix(y_test, y_pred)\n",
    "plot_confusion_matrix(cm, list(range(10)), list(range(10)), normalize=True)\n",
    "print(report)"
   ]
  },
  {
   "cell_type": "markdown",
   "metadata": {},
   "source": [
    "## Mallin muokkaaminen\n",
    "Kokeile seuraavaksi muokata mallia paremmaksi. Kopioi malli osa osalta alle `build_fn()`-funktion sisälle, jotta voit muuttaa parametreja helpommin. Käytä funktion parametreja ja voit lisätä omia parametreja muokkaamisen helpottamiseksi, mutta muist antaa niille oletusarvo. Voit lisätä malliin uusia (Dense-) tasoja ja voit muuttaa niiden kokoa ja poiston määrää. Muuta myös erien kokoa ja epookkien määriä. Älä kuitenkaan käytä liian isoja epookkilukuja (>20) tai neuronitasojen kokoja (>10000), jottei mallin opettaminen hidastu liikaa."
   ]
  },
  {
   "cell_type": "code",
   "execution_count": 84,
   "metadata": {
    "scrolled": true
   },
   "outputs": [
    {
     "name": "stdout",
     "output_type": "stream",
     "text": [
      "Epoch 1/5\n",
      "1437/1437 [==============================] - 1s 785us/sample - loss: 5.5384 - acc: 0.2116\n",
      "Epoch 2/5\n",
      "1437/1437 [==============================] - 0s 203us/sample - loss: 1.7151 - acc: 0.5992\n",
      "Epoch 3/5\n",
      "1437/1437 [==============================] - 0s 163us/sample - loss: 0.7832 - acc: 0.7794\n",
      "Epoch 4/5\n",
      "1437/1437 [==============================] - 0s 150us/sample - loss: 0.5337 - acc: 0.8365\n",
      "Epoch 5/5\n",
      "1437/1437 [==============================] - 0s 149us/sample - loss: 0.4494 - acc: 0.8580\n",
      "360/360 [==============================] - 1s 2ms/sample - loss: 0.2234 - acc: 0.9167\n",
      "Testijoukon häviö: 0.2234 OA: 0.9167\n"
     ]
    }
   ],
   "source": [
    "def build_fn(first_dense_units=100, dropout_rate=0.2):\n",
    "    # Kopioi malli yllä olevista soluista koontivaiheeseen asti (model.compile())\n",
    "    model = keras.models.Sequential()\n",
    "    model.add(keras.layers.Flatten(input_shape=(8, 8)))\n",
    "    model.add(keras.layers.Dense(first_dense_units, activation=\"relu\"))\n",
    "    model.add(keras.layers.Dropout(dropout_rate))\n",
    "    model.add(keras.layers.Dense(10, activation=\"softmax\"))\n",
    "    \n",
    "    model.compile(optimizer='adam',\n",
    "                  loss='sparse_categorical_crossentropy',\n",
    "                  metrics=['accuracy'])\n",
    "    return model\n",
    "    \n",
    "model = build_fn(first_dense_units=100)\n",
    "model.fit(X_train, y_train, epochs=5, batch_size=50)\n",
    "evaluation = model.evaluate(X_test, y_test)\n",
    "print(\"Testijoukon häviö: {:.4f} OA: {:.4f}\".format(evaluation[0], evaluation[1]))"
   ]
  },
  {
   "cell_type": "markdown",
   "metadata": {},
   "source": [
    "### Mallin tallentaminen\n",
    "Kuten Scikit-learn:in tapauksessa, myös Keras-malleja voi tallentaa levylle. Neuroverkkojen opettaminen on usein hidasta puuhaa, mutta onneksi myös välituloksia opetuksessa voi tallentaa ja opetusta voi tarvittaessa jatkaa edellisestä kohdasta tallentamalla mallin painot.  \n",
    "\n",
    "[Dokumentaation](https://keras.io/callbacks/#modelcheckpoint) perusteella luo `keras.callbacks.ModelCheckpoint`-funktio, joka tallentaa vain parhaat painot tiedostoon \"keras-mnist-model-best-weights.ckpt\""
   ]
  },
  {
   "cell_type": "code",
   "execution_count": 86,
   "metadata": {},
   "outputs": [
    {
     "name": "stdout",
     "output_type": "stream",
     "text": [
      "Epoch 1/5\n",
      "1400/1437 [============================>.] - ETA: 0s - loss: 5.1970 - acc: 0.2164\n",
      "Epoch 00001: saving model to keras-mnist-model-best-weights.ckpt\n",
      "1437/1437 [==============================] - 3s 2ms/sample - loss: 5.1094 - acc: 0.2234\n",
      "Epoch 2/5\n",
      "1350/1437 [===========================>..] - ETA: 0s - loss: 1.5972 - acc: 0.5726\n",
      "Epoch 00002: saving model to keras-mnist-model-best-weights.ckpt\n",
      "1437/1437 [==============================] - 0s 263us/sample - loss: 1.5514 - acc: 0.5825\n",
      "Epoch 3/5\n",
      "1400/1437 [============================>.] - ETA: 0s - loss: 0.8833 - acc: 0.7393\n",
      "Epoch 00003: saving model to keras-mnist-model-best-weights.ckpt\n",
      "1437/1437 [==============================] - 0s 225us/sample - loss: 0.8776 - acc: 0.7411\n",
      "Epoch 4/5\n",
      "1250/1437 [=========================>....] - ETA: 0s - loss: 0.6191 - acc: 0.7928\n",
      "Epoch 00004: saving model to keras-mnist-model-best-weights.ckpt\n",
      "1437/1437 [==============================] - 0s 281us/sample - loss: 0.6214 - acc: 0.7933\n",
      "Epoch 5/5\n",
      "1350/1437 [===========================>..] - ETA: 0s - loss: 0.4951 - acc: 0.8444\n",
      "Epoch 00005: saving model to keras-mnist-model-best-weights.ckpt\n",
      "1437/1437 [==============================] - 0s 176us/sample - loss: 0.4862 - acc: 0.8476\n",
      "360/360 [==============================] - 1s 2ms/sample - loss: 0.2336 - acc: 0.9250\n",
      "Testijoukon häviö: 0.2336 OA: 0.9250\n"
     ]
    }
   ],
   "source": [
    "checkpoint_location = \"keras-mnist-model-best-weights.ckpt\"\n",
    "\n",
    "cp_callback = keras.callbacks.ModelCheckpoint(\n",
    "    checkpoint_location, verbose=1, save_weights_only=True, save_best=True)\n",
    "\n",
    "model = build_fn()\n",
    "model.fit(X_train, y_train, epochs=5, batch_size=50, callbacks = [cp_callback])\n",
    "evaluation = model.evaluate(X_test, y_test)\n",
    "print(\"Testijoukon häviö: {:.4f} OA: {:.4f}\".format(evaluation[0], evaluation[1]))"
   ]
  },
  {
   "cell_type": "code",
   "execution_count": 88,
   "metadata": {},
   "outputs": [
    {
     "name": "stdout",
     "output_type": "stream",
     "text": [
      "360/360 [==============================] - 1s 2ms/sample - loss: 10.7725 - acc: 0.0806\n",
      "Testijoukon häviö: 10.7725 OA: 0.0806\n",
      "360/360 [==============================] - 0s 196us/sample - loss: 0.2336 - acc: 0.9250\n",
      "Testijoukon häviö: 0.2336 OA: 0.9250\n"
     ]
    }
   ],
   "source": [
    "# Evaluoi tyhjää mallia\n",
    "model = build_fn()\n",
    "evaluation = model.evaluate(X_test, y_test)\n",
    "print(\"Testijoukon häviö: {:.4f} OA: {:.4f}\".format(evaluation[0], evaluation[1]))\n",
    "\n",
    "# Evaluoi mallia painojen lataamisen jälkeen\n",
    "model.load_weights(checkpoint_location)\n",
    "evaluation = model.evaluate(X_test, y_test)\n",
    "print(\"Testijoukon häviö: {:.4f} OA: {:.4f}\".format(evaluation[0], evaluation[1]))"
   ]
  },
  {
   "cell_type": "markdown",
   "metadata": {},
   "source": [
    "Lue halutessasi lisää mallin tallentamisesta [täältä](https://www.tensorflow.org/tutorials/keras/save_and_restore_models)."
   ]
  },
  {
   "cell_type": "markdown",
   "metadata": {},
   "source": [
    "## Scikit-learn yhteensopivuus\n",
    "Äskeinen hyperparametrien optimointi saattoi tuntua aika manuaaliselta edellisten harjoitusten automatisoitujen keinojen jälkeen. Pystyisiköhän samoja menetelmiä käyttämään myös Keras-mallien kanssa? Kyllä [pystyy](https://keras.io/scikit-learn-api/)! Samoin Keras-mallin voi ottaa käyttöön laajemmassa Scikit-learn ympäristössä  ja siihen voi jopa soveltaa [putkitusta](https://scikit-learn.org/stable/modules/generated/sklearn.pipeline.Pipeline.html), mikä tuo paljon hyötyjä esimerkiksi datan esikäsittelyn (esim. standardtointi, pca) osalta.\n",
    "\n",
    "Luo ensin `clf`-olio [dokumentaation](https://keras.io/scikit-learn-api/) avulla antamatta mitään muita parametreja, kuin `build_fn`.\n",
    "\n"
   ]
  },
  {
   "cell_type": "code",
   "execution_count": 81,
   "metadata": {},
   "outputs": [],
   "source": [
    "# TODO: None\n",
    "clf = keras.wrappers.scikit_learn.KerasClassifier(build_fn)"
   ]
  },
  {
   "cell_type": "markdown",
   "metadata": {},
   "source": [
    "Luo sitten parametriverkko ja [GridSearchCV](https://scikit-learn.org/stable/modules/generated/sklearn.model_selection.GridSearchCV.html)\n",
    ". Luomasi `build_fn` parametrien lisäksi voit antaa parametreina myös opettamiseen tarvittavia parametreja, kuten `\"epochs\"` ja `\"batch_size\"`. Muista, että GridSearchCV käyttää ristivalidointia (CV=3 oletuksena), eli liian paljon eri aikaavieviä parametrikokeiluja ei kannata tehdä kerralla."
   ]
  },
  {
   "cell_type": "code",
   "execution_count": 82,
   "metadata": {
    "scrolled": true
   },
   "outputs": [
    {
     "name": "stderr",
     "output_type": "stream",
     "text": [
      "/home/joona/IdeaProjects/MLCourse/venv/forNb/lib/python3.6/site-packages/sklearn/model_selection/_split.py:1978: FutureWarning: The default value of cv will change from 3 to 5 in version 0.22. Specify it explicitly to silence this warning.\n",
      "  warnings.warn(CV_WARNING, FutureWarning)\n"
     ]
    },
    {
     "name": "stdout",
     "output_type": "stream",
     "text": [
      "958/958 [==============================] - 1s 708us/sample - loss: 4.3156 - acc: 0.1002\n",
      "479/479 [==============================] - 0s 901us/sample - loss: 2.8805 - acc: 0.1023\n",
      "958/958 [==============================] - 1s 795us/sample - loss: 2.4046 - acc: 0.0783\n",
      "479/479 [==============================] - 0s 894us/sample - loss: 2.3376 - acc: 0.0939\n",
      "958/958 [==============================] - 1s 839us/sample - loss: 2.3027 - acc: 0.0825\n",
      "479/479 [==============================] - 0s 904us/sample - loss: 2.3057 - acc: 0.0731\n",
      "958/958 [==============================] - 1s 1ms/sample - loss: 9.7896 - acc: 0.0825\n",
      "479/479 [==============================] - 0s 944us/sample - loss: 4.9430 - acc: 0.1023\n",
      "958/958 [==============================] - 1s 778us/sample - loss: 4.6976 - acc: 0.1159\n",
      "479/479 [==============================] - 0s 900us/sample - loss: 2.8328 - acc: 0.1065\n",
      "958/958 [==============================] - 1s 964us/sample - loss: 9.9170 - acc: 0.0835\n",
      "479/479 [==============================] - 0s 885us/sample - loss: 5.7016 - acc: 0.0605\n",
      "958/958 [==============================] - 1s 764us/sample - loss: 6.2077 - acc: 0.2077\n",
      "479/479 [==============================] - 0s 726us/sample - loss: 1.9176 - acc: 0.5052\n",
      "958/958 [==============================] - 1s 832us/sample - loss: 5.2794 - acc: 0.2213\n",
      "479/479 [==============================] - 1s 1ms/sample - loss: 1.5224 - acc: 0.5929\n",
      "958/958 [==============================] - 1s 871us/sample - loss: 6.1827 - acc: 0.2620\n",
      "479/479 [==============================] - 1s 1ms/sample - loss: 1.7349 - acc: 0.6180\n",
      "Epoch 1/5\n",
      "958/958 [==============================] - 1s 916us/sample - loss: 2.4499 - acc: 0.0772\n",
      "Epoch 2/5\n",
      "958/958 [==============================] - 0s 189us/sample - loss: 2.3277 - acc: 0.1106\n",
      "Epoch 3/5\n",
      "958/958 [==============================] - 0s 215us/sample - loss: 2.2902 - acc: 0.1075\n",
      "Epoch 4/5\n",
      "958/958 [==============================] - 0s 273us/sample - loss: 2.2858 - acc: 0.1075\n",
      "Epoch 5/5\n",
      "958/958 [==============================] - 0s 222us/sample - loss: 2.2738 - acc: 0.1117\n",
      "479/479 [==============================] - 0s 1ms/sample - loss: 2.2763 - acc: 0.1148\n",
      "Epoch 1/5\n",
      "958/958 [==============================] - 1s 1ms/sample - loss: 4.3025 - acc: 0.0846\n",
      "Epoch 2/5\n",
      "958/958 [==============================] - 0s 252us/sample - loss: 2.5795 - acc: 0.1065\n",
      "Epoch 3/5\n",
      "958/958 [==============================] - 0s 284us/sample - loss: 2.3829 - acc: 0.1044\n",
      "Epoch 4/5\n",
      "958/958 [==============================] - 0s 243us/sample - loss: 2.3413 - acc: 0.1065\n",
      "Epoch 5/5\n",
      "958/958 [==============================] - 0s 222us/sample - loss: 2.3275 - acc: 0.0929\n",
      "479/479 [==============================] - 0s 633us/sample - loss: 2.3091 - acc: 0.0981\n",
      "Epoch 1/5\n",
      "958/958 [==============================] - 1s 1ms/sample - loss: 2.3885 - acc: 0.0950\n",
      "Epoch 2/5\n",
      "958/958 [==============================] - 0s 277us/sample - loss: 2.3076 - acc: 0.1127\n",
      "Epoch 3/5\n",
      "958/958 [==============================] - 0s 226us/sample - loss: 2.3062 - acc: 0.1200\n",
      "Epoch 4/5\n",
      "958/958 [==============================] - 0s 275us/sample - loss: 2.3004 - acc: 0.1200\n",
      "Epoch 5/5\n",
      "958/958 [==============================] - 0s 296us/sample - loss: 2.2982 - acc: 0.1200\n",
      "479/479 [==============================] - 1s 1ms/sample - loss: 2.2969 - acc: 0.0793\n",
      "Epoch 1/5\n",
      "958/958 [==============================] - 1s 1ms/sample - loss: 3.7069 - acc: 0.1284\n",
      "Epoch 2/5\n",
      "958/958 [==============================] - 0s 275us/sample - loss: 2.3755 - acc: 0.1660\n",
      "Epoch 3/5\n",
      "958/958 [==============================] - 0s 277us/sample - loss: 2.1342 - acc: 0.1858\n",
      "Epoch 4/5\n",
      "958/958 [==============================] - 0s 276us/sample - loss: 2.0476 - acc: 0.2077\n",
      "Epoch 5/5\n",
      "958/958 [==============================] - 0s 258us/sample - loss: 1.9836 - acc: 0.2234\n",
      "479/479 [==============================] - 1s 1ms/sample - loss: 1.9357 - acc: 0.2965\n",
      "Epoch 1/5\n",
      "958/958 [==============================] - 1s 1ms/sample - loss: 14.6984 - acc: 0.1232\n",
      "Epoch 2/5\n",
      "958/958 [==============================] - 0s 242us/sample - loss: 8.5193 - acc: 0.1096\n",
      "Epoch 3/5\n",
      "958/958 [==============================] - 0s 239us/sample - loss: 5.8752 - acc: 0.1315\n",
      "Epoch 4/5\n",
      "958/958 [==============================] - 0s 312us/sample - loss: 4.2510 - acc: 0.1670\n",
      "Epoch 5/5\n",
      "958/958 [==============================] - 0s 257us/sample - loss: 3.2196 - acc: 0.1910\n",
      "479/479 [==============================] - 1s 1ms/sample - loss: 2.5442 - acc: 0.1983\n",
      "Epoch 1/5\n",
      "958/958 [==============================] - 1s 1ms/sample - loss: 6.3797 - acc: 0.1430\n",
      "Epoch 2/5\n",
      "958/958 [==============================] - 0s 210us/sample - loss: 3.2916 - acc: 0.2025\n",
      "Epoch 3/5\n",
      "958/958 [==============================] - 0s 254us/sample - loss: 2.3920 - acc: 0.2328\n",
      "Epoch 4/5\n",
      "958/958 [==============================] - 0s 263us/sample - loss: 2.0956 - acc: 0.2860\n",
      "Epoch 5/5\n",
      "958/958 [==============================] - 0s 164us/sample - loss: 1.9498 - acc: 0.3434\n",
      "479/479 [==============================] - 1s 2ms/sample - loss: 1.8404 - acc: 0.4029\n",
      "Epoch 1/5\n",
      "958/958 [==============================] - 1s 1ms/sample - loss: 4.8223 - acc: 0.2443\n",
      "Epoch 2/5\n",
      "958/958 [==============================] - 0s 271us/sample - loss: 1.6789 - acc: 0.5804\n",
      "Epoch 3/5\n",
      "958/958 [==============================] - 0s 283us/sample - loss: 0.9255 - acc: 0.7422\n",
      "Epoch 4/5\n",
      "958/958 [==============================] - 0s 310us/sample - loss: 0.6170 - acc: 0.8121\n",
      "Epoch 5/5\n",
      "958/958 [==============================] - 0s 295us/sample - loss: 0.5058 - acc: 0.8413\n",
      "479/479 [==============================] - 1s 1ms/sample - loss: 0.3599 - acc: 0.8998\n",
      "Epoch 1/5\n",
      "958/958 [==============================] - 1s 1ms/sample - loss: 5.1855 - acc: 0.1816\n",
      "Epoch 2/5\n",
      "958/958 [==============================] - 0s 235us/sample - loss: 1.5930 - acc: 0.5731\n",
      "Epoch 3/5\n",
      "958/958 [==============================] - 0s 196us/sample - loss: 0.7986 - acc: 0.7610\n",
      "Epoch 4/5\n",
      "958/958 [==============================] - 0s 248us/sample - loss: 0.6117 - acc: 0.8142\n",
      "Epoch 5/5\n",
      "958/958 [==============================] - 0s 196us/sample - loss: 0.4691 - acc: 0.8716\n",
      "479/479 [==============================] - 1s 1ms/sample - loss: 0.2902 - acc: 0.9040\n",
      "Epoch 1/5\n",
      "958/958 [==============================] - 1s 1ms/sample - loss: 5.9152 - acc: 0.1952\n",
      "Epoch 2/5\n",
      "958/958 [==============================] - 0s 257us/sample - loss: 1.7143 - acc: 0.5292\n",
      "Epoch 3/5\n",
      "958/958 [==============================] - 0s 285us/sample - loss: 0.8876 - acc: 0.7234\n",
      "Epoch 4/5\n",
      "958/958 [==============================] - 0s 228us/sample - loss: 0.6009 - acc: 0.8121\n",
      "Epoch 5/5\n",
      "958/958 [==============================] - 0s 267us/sample - loss: 0.4967 - acc: 0.8507\n",
      "479/479 [==============================] - 1s 1ms/sample - loss: 0.3248 - acc: 0.9061\n",
      "Epoch 1/5\n",
      "1437/1437 [==============================] - 1s 897us/sample - loss: 3.5879 - acc: 0.3333\n",
      "Epoch 2/5\n",
      "1437/1437 [==============================] - 0s 292us/sample - loss: 1.1264 - acc: 0.6799\n",
      "Epoch 3/5\n",
      "1437/1437 [==============================] - 0s 172us/sample - loss: 0.6304 - acc: 0.8051\n",
      "Epoch 4/5\n",
      "1437/1437 [==============================] - 0s 190us/sample - loss: 0.4306 - acc: 0.8713\n",
      "Epoch 5/5\n",
      "1437/1437 [==============================] - 0s 205us/sample - loss: 0.3319 - acc: 0.8866\n",
      "Parhaat parametrit:  {'epochs': 5, 'first_dense_units': 100}\n",
      "Paras opetus OA: 0.9033\n",
      "360/360 [==============================] - 1s 2ms/sample - loss: 0.1834 - acc: 0.9361\n",
      "OA: 0.9361\n"
     ]
    }
   ],
   "source": [
    "from sklearn.model_selection import GridSearchCV\n",
    "parameters = {\"first_dense_units\": [1,10,100], \"epochs\": [1, 5]}\n",
    "clf = GridSearchCV(clf, parameters)\n",
    "clf.fit(X_train, y_train)\n",
    "print(\"Parhaat parametrit: \", clf.best_params_)\n",
    "print(\"Paras opetus OA: {:.4f}\".format(clf.best_score_))\n",
    "print(\"OA: {:.4f}\".format(clf.score(X_test, y_test)))"
   ]
  },
  {
   "cell_type": "markdown",
   "metadata": {},
   "source": []
  },
  {
   "cell_type": "markdown",
   "metadata": {},
   "source": [
    "## Lisenssi\n",
    "Osa tämän harjoituksen esimerkeistä on muokattu sivun https://www.tensorflow.org/tutorials esimerkeistä.\n"
   ]
  },
  {
   "cell_type": "code",
   "execution_count": 25,
   "metadata": {},
   "outputs": [],
   "source": [
    "#@title MIT License\n",
    "#\n",
    "# Copyright (c) 2017 François Chollet\n",
    "#\n",
    "# Permission is hereby granted, free of charge, to any person obtaining a\n",
    "# copy of this software and associated documentation files (the \"Software\"),\n",
    "# to deal in the Software without restriction, including without limitation\n",
    "# the rights to use, copy, modify, merge, publish, distribute, sublicense,\n",
    "# and/or sell copies of the Software, and to permit persons to whom the\n",
    "# Software is furnished to do so, subject to the following conditions:\n",
    "#\n",
    "# The above copyright notice and this permission notice shall be included in\n",
    "# all copies or substantial portions of the Software.\n",
    "#\n",
    "# THE SOFTWARE IS PROVIDED \"AS IS\", WITHOUT WARRANTY OF ANY KIND, EXPRESS OR\n",
    "# IMPLIED, INCLUDING BUT NOT LIMITED TO THE WARRANTIES OF MERCHANTABILITY,\n",
    "# FITNESS FOR A PARTICULAR PURPOSE AND NONINFRINGEMENT. IN NO EVENT SHALL\n",
    "# THE AUTHORS OR COPYRIGHT HOLDERS BE LIABLE FOR ANY CLAIM, DAMAGES OR OTHER\n",
    "# LIABILITY, WHETHER IN AN ACTION OF CONTRACT, TORT OR OTHERWISE, ARISING\n",
    "# FROM, OUT OF OR IN CONNECTION WITH THE SOFTWARE OR THE USE OR OTHER\n",
    "# DEALINGS IN THE SOFTWARE."
   ]
  }
 ],
 "metadata": {
  "kernelspec": {
   "display_name": "Python 3",
   "language": "python",
   "name": "python3"
  },
  "language_info": {
   "codemirror_mode": {
    "name": "ipython",
    "version": 3
   },
   "file_extension": ".py",
   "mimetype": "text/x-python",
   "name": "python",
   "nbconvert_exporter": "python",
   "pygments_lexer": "ipython3",
   "version": "3.6.8"
  },
  "pycharm": {
   "stem_cell": {
    "cell_type": "raw",
    "metadata": {
     "collapsed": false
    },
    "source": []
   }
  }
 },
 "nbformat": 4,
 "nbformat_minor": 2
}
