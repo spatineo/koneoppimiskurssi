{
 "cells": [
  {
   "cell_type": "markdown",
   "metadata": {},
   "source": [
    "Viinien luokittelu\n",
    "==============\n",
    "\n",
    "Tässä harjoituksessa tutustutaan viinien maailmaan.\n",
    "\n",
    "**Ongelma**: Voiko viinin laadun päätellä viiniä kuvaavien arvojen perusteella?\n",
    "\n",
    "## Data lataus\n",
    "Lataa Pandas DataFrame-olioina aineistot \"../winequality-red.csv\" ja \"../winequality-white.csv\"."
   ]
  },
  {
   "cell_type": "code",
   "execution_count": null,
   "metadata": {},
   "outputs": [],
   "source": [
    "from sklearn.svm import SVC\n",
    "from sklearn.model_selection import train_test_split\n",
    "from sklearn.preprocessing import StandardScaler\n",
    "import pandas as pd\n",
    "\n",
    "def process_data(name, label):\n",
    "    wine = pd.read_csv(name, index_col=False)\n",
    "    wine['label'] = label \n",
    "    return wine\n",
    "    \n",
    "red = process_data(\"../winequality-red.csv\", 0)\n",
    "white = process_data(\"../winequality-white.csv\", 1)\n",
    "\n",
    "wine = pd.concat([red, white])\n",
    "# Sample sekoittaa aineiston, frac=1 tarkoittaa palauttaa koko aineiston\n",
    "wine.sample(frac=1).head(10)"
   ]
  },
  {
   "cell_type": "markdown",
   "metadata": {},
   "source": [
    "## Datan esikäsittely\n",
    "Quality-arvo vaikuttaa siltä, että se ei ala nollasta. Tarkistetaan tilanne. Muuta se alkamaan 0:sta"
   ]
  },
  {
   "cell_type": "code",
   "execution_count": null,
   "metadata": {},
   "outputs": [],
   "source": [
    "wine.quality.unique()"
   ]
  },
  {
   "cell_type": "code",
   "execution_count": null,
   "metadata": {},
   "outputs": [],
   "source": [
    "wine.quality = wine.quality - wine.quality.min()"
   ]
  },
  {
   "cell_type": "markdown",
   "metadata": {},
   "source": [
    "#### Muuttujien valinta\n",
    "Muodosta nyt havaintojoukko `X` ja luokkajoukko `y`.\n",
    "Valitse havaintojoukkoon mieleikkäämmät sarakkeet viinidatasta. Saat valittua vain osan sarakkeista alla olevalla tyylillä:\n",
    "```python\n",
    "# Olemassa olevat\n",
    "print(list(df.columns))\n",
    "df = df[['vain', 'halutut', 'sarakkeet']]\n",
    "```\n",
    "\n",
    "Valitse luokiksi `y` laatusarake `quality`. Muista kommentoida tämä pois `X`:n sarakkeista."
   ]
  },
  {
   "cell_type": "code",
   "execution_count": null,
   "metadata": {},
   "outputs": [],
   "source": [
    "y = wine['quality']\n",
    "X = wine[[\n",
    " 'fixed acidity',\n",
    " 'volatile acidity',\n",
    " 'citric acid',\n",
    " 'residual sugar',\n",
    " 'chlorides',\n",
    " 'free sulfur dioxide',\n",
    " 'total sulfur dioxide',\n",
    " 'density',\n",
    " 'pH',\n",
    " 'sulphates',\n",
    " 'alcohol',\n",
    " #'quality',\n",
    " 'label'\n",
    "         ]]"
   ]
  },
  {
   "cell_type": "markdown",
   "metadata": {},
   "source": [
    "#### Jako\n",
    "Jaa luomasi X ja luokat y opetus- ja testijoukkoihin X_train, X_test, y_train ja  y_test siten, että testijoukon osuus on 30% ja opetusjoukon osuus on 70% havainnoista."
   ]
  },
  {
   "cell_type": "code",
   "execution_count": null,
   "metadata": {},
   "outputs": [],
   "source": [
    "X_train, X_test, y_train, y_test = train_test_split(X,y,test_size=0.3, random_state=42)"
   ]
  },
  {
   "cell_type": "markdown",
   "metadata": {},
   "source": [
    "##### Datan visualisointia\n",
    "Visualisoidaan opetusjoukkoa hieman ongelman hahmottamiseksi. Koska valitsemiesi muuttujien määrä voi olla enemmän kuin 2, käytetään PCA-analyysiä visualisoinnin tukena. "
   ]
  },
  {
   "cell_type": "code",
   "execution_count": null,
   "metadata": {
    "pycharm": {
     "name": "#%%\n"
    }
   },
   "outputs": [],
   "source": [
    "from sklearn.decomposition import PCA\n",
    "from sklearn.preprocessing import StandardScaler\n",
    "import matplotlib.pyplot as plt\n",
    "\n",
    "pca = PCA(n_components=2)\n",
    "X_train_scaled = StandardScaler().fit_transform(X_train)\n",
    "X_train_pca = pca.fit_transform(X_train_scaled)\n",
    "print(\"Muuttujien määrä oli ennen {}, nyt se on {}\".format(len(X.columns), len(X_train_pca[0])))\n",
    "\n",
    "fig, ax = plt.subplots(figsize=(8, 6))\n",
    "ax.scatter(X_train_pca[:, 0], X_train_pca[:, 1], c=y_train, cmap=plt.cm.Set1,\n",
    "            edgecolor='k')\n",
    "ax.set_xlabel('1. ominaisuusvektori')\n",
    "ax.set_ylabel('2. ominaisuusvektori')\n",
    "plt.show()"
   ]
  },
  {
   "cell_type": "markdown",
   "metadata": {
    "pycharm": {
     "name": "#%% md\n"
    }
   },
   "source": [
    "## Luokittelu\n",
    "Muodosta sitten putki ([`Pipeline`](https://scikit-learn.org/stable/modules/generated/sklearn.pipeline.Pipeline.html#sklearn.pipeline.Pipeline)), johon liität StandardScaler ja PCA esikäsittelyvaiheet, käytä PCA:n `n_components`-parametrina arvoa 0.9. Lisää putken viimeiseksi komponentiksi haluamasi luokittelija nimelle \"clf\". Jos käytät Keras-luokittelijaa, muista luoda funktio sille oletusparametreilla."
   ]
  },
  {
   "cell_type": "code",
   "execution_count": null,
   "metadata": {
    "pycharm": {
     "name": "#%%\n"
    }
   },
   "outputs": [],
   "source": [
    "from sklearn.preprocessing import StandardScaler\n",
    "from sklearn.decomposition import PCA\n",
    "from sklearn.svm import SVC\n",
    "from sklearn.pipeline import Pipeline\n",
    "\n",
    "pipe = Pipeline([('scaler', StandardScaler()), ('pca',PCA(n_components=0.9)), ('clf',SVC())])"
   ]
  },
  {
   "cell_type": "markdown",
   "metadata": {},
   "source": [
    "Suorita sitten hyperparametrioptimointi. Putkitusta käytettäessä laita parametrisanakirjaan luokittelijakomponentin nimi ja kaksi alaviivaa ennen parametrin nimeä. Esimerkiksi SVM-algoritmin `C`-parametrin tapauksessa:\n",
    "```python\n",
    "params_without_pipeline = {'C':[1,10]}\n",
    "params_with_pipeline = {'clf__C':[1,10]}\n",
    "\n",
    "```"
   ]
  },
  {
   "cell_type": "code",
   "execution_count": null,
   "metadata": {
    "pycharm": {
     "name": "#%%\n"
    }
   },
   "outputs": [],
   "source": [
    "from sklearn.model_selection import GridSearchCV\n",
    "\n",
    "def train(pipe, parameters):\n",
    "    clf = GridSearchCV(pipe, parameters, cv=2, n_jobs=-1)\n",
    "    clf.fit(X_train, y_train)\n",
    "    print(\"Parhaat parametrit: \", clf.best_params_)\n",
    "    print(\"Paras opetus OA: {:.4f}\".format(clf.best_score_))\n",
    "    print(\"OA: {:.4f}\".format(clf.score(X_test, y_test)))\n",
    "    return clf"
   ]
  },
  {
   "cell_type": "markdown",
   "metadata": {},
   "source": [
    "### Evaluointi\n",
    "Luo vielä funktio evaluointia varten"
   ]
  },
  {
   "cell_type": "code",
   "execution_count": null,
   "metadata": {
    "pycharm": {
     "name": "#%%\n"
    },
    "scrolled": true
   },
   "outputs": [],
   "source": [
    "from sklearn.metrics import classification_report\n",
    "from sklearn.metrics import confusion_matrix\n",
    "from utils import plot_confusion_matrix\n",
    "\n",
    "def evaluate(y_pred):\n",
    "    cm = confusion_matrix(y_test, y_pred)\n",
    "    print(classification_report(y_test, y_pred))\n",
    "    plot_confusion_matrix(cm,list(range(y_pred.max()+1)), list(range(y_pred.max()+1)), normalize=True)\n",
    "evaluate(y_pred)"
   ]
  },
  {
   "cell_type": "markdown",
   "metadata": {},
   "source": [
    "##### Mallin opettaminen ja evaluointi\n",
    "Anna toiseksi parametriksi sanakirja hyperparametreista."
   ]
  },
  {
   "cell_type": "code",
   "execution_count": null,
   "metadata": {},
   "outputs": [],
   "source": [
    "clf = train(pipe, {'clf__C':[1, 10, 100], 'clf__gamma':[1, 0.1, 0.01]})\n",
    "y_pred = clf.predict(X_test)\n",
    "evaluate(y_pred)"
   ]
  },
  {
   "cell_type": "markdown",
   "metadata": {},
   "source": [
    "Kokeile vielä valita eri määrä muuttujia kohdassa [Muuttujien valinta](#Muuttujien-valinta). Aja se solu ja tämän jälkeen solut [Jako](#Jako) ja [Mallin opettaminen ja evaluointi](#Mallin-opettaminen-ja-evaluointi)."
   ]
  },
  {
   "cell_type": "markdown",
   "metadata": {},
   "source": [
    "## Viinin tyypin luokittelu\n",
    "\n",
    "\n",
    "**Ongelma**: Voiko viinin tyypin (punaviini / valkoviini) päätellä viiniä kuvaavien arvojen perusteella?"
   ]
  },
  {
   "cell_type": "markdown",
   "metadata": {},
   "source": [
    "Valitse nyt [Muuttujien valinta](#Muuttujien-valinta)-kohdassa luokiksi `y` sarake \"label\" ja muista kommentoida se pois joukosta `X`. Aja se solu ja tämän jälkeen solut [Jako](#Jako), [Datan visualisointia](#Datan-visualisointia) ja [Mallin opettaminen ja evaluointi](#Mallin-opettaminen-ja-evaluointi)."
   ]
  }
 ],
 "metadata": {
  "kernelspec": {
   "display_name": "Python 3",
   "language": "python",
   "name": "python3"
  },
  "language_info": {
   "codemirror_mode": {
    "name": "ipython",
    "version": 3
   },
   "file_extension": ".py",
   "mimetype": "text/x-python",
   "name": "python",
   "nbconvert_exporter": "python",
   "pygments_lexer": "ipython3",
   "version": "3.6.8"
  },
  "pycharm": {
   "stem_cell": {
    "cell_type": "raw",
    "metadata": {
     "collapsed": false
    },
    "source": []
   }
  }
 },
 "nbformat": 4,
 "nbformat_minor": 2
}
