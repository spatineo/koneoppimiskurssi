{
 "cells": [
  {
   "cell_type": "markdown",
   "metadata": {},
   "source": [
    "Viinien luokittelu\n",
    "=============="
   ]
  },
  {
   "cell_type": "code",
   "execution_count": 45,
   "metadata": {},
   "outputs": [],
   "source": [
    "from sklearn.svm import SVC\n",
    "from sklearn.model_selection import train_test_split\n",
    "from sklearn.preprocessing import StandardScaler\n",
    "import pandas as pd\n",
    "\n",
    "def process_data(name, label):\n",
    "    wine = pd.read_csv(name, index_col=False)\n",
    "    wine['quality'] = wine.quality - 3\n",
    "    wine['label'] = label \n",
    "    return wine\n",
    "    \n",
    "red = process_data(\"../winequality-red.csv\", 0)\n",
    "white = process_data(\"../winequality-white.csv\", 1)\n",
    "\n",
    "wine = pd.concat([red, white])"
   ]
  },
  {
   "cell_type": "code",
   "execution_count": 26,
   "metadata": {},
   "outputs": [
    {
     "data": {
      "text/html": [
       "<div>\n",
       "<style scoped>\n",
       "    .dataframe tbody tr th:only-of-type {\n",
       "        vertical-align: middle;\n",
       "    }\n",
       "\n",
       "    .dataframe tbody tr th {\n",
       "        vertical-align: top;\n",
       "    }\n",
       "\n",
       "    .dataframe thead th {\n",
       "        text-align: right;\n",
       "    }\n",
       "</style>\n",
       "<table border=\"1\" class=\"dataframe\">\n",
       "  <thead>\n",
       "    <tr style=\"text-align: right;\">\n",
       "      <th></th>\n",
       "      <th>fixed acidity</th>\n",
       "      <th>volatile acidity</th>\n",
       "      <th>citric acid</th>\n",
       "      <th>residual sugar</th>\n",
       "      <th>chlorides</th>\n",
       "      <th>free sulfur dioxide</th>\n",
       "      <th>total sulfur dioxide</th>\n",
       "      <th>density</th>\n",
       "      <th>pH</th>\n",
       "      <th>sulphates</th>\n",
       "      <th>alcohol</th>\n",
       "      <th>quality</th>\n",
       "      <th>label</th>\n",
       "    </tr>\n",
       "  </thead>\n",
       "  <tbody>\n",
       "    <tr>\n",
       "      <td>4893</td>\n",
       "      <td>6.2</td>\n",
       "      <td>0.21</td>\n",
       "      <td>0.29</td>\n",
       "      <td>1.6</td>\n",
       "      <td>0.039</td>\n",
       "      <td>24.0</td>\n",
       "      <td>92.0</td>\n",
       "      <td>0.99114</td>\n",
       "      <td>3.27</td>\n",
       "      <td>0.50</td>\n",
       "      <td>11.2</td>\n",
       "      <td>3</td>\n",
       "      <td>1</td>\n",
       "    </tr>\n",
       "    <tr>\n",
       "      <td>4894</td>\n",
       "      <td>6.6</td>\n",
       "      <td>0.32</td>\n",
       "      <td>0.36</td>\n",
       "      <td>8.0</td>\n",
       "      <td>0.047</td>\n",
       "      <td>57.0</td>\n",
       "      <td>168.0</td>\n",
       "      <td>0.99490</td>\n",
       "      <td>3.15</td>\n",
       "      <td>0.46</td>\n",
       "      <td>9.6</td>\n",
       "      <td>2</td>\n",
       "      <td>1</td>\n",
       "    </tr>\n",
       "    <tr>\n",
       "      <td>4895</td>\n",
       "      <td>6.5</td>\n",
       "      <td>0.24</td>\n",
       "      <td>0.19</td>\n",
       "      <td>1.2</td>\n",
       "      <td>0.041</td>\n",
       "      <td>30.0</td>\n",
       "      <td>111.0</td>\n",
       "      <td>0.99254</td>\n",
       "      <td>2.99</td>\n",
       "      <td>0.46</td>\n",
       "      <td>9.4</td>\n",
       "      <td>3</td>\n",
       "      <td>1</td>\n",
       "    </tr>\n",
       "    <tr>\n",
       "      <td>4896</td>\n",
       "      <td>5.5</td>\n",
       "      <td>0.29</td>\n",
       "      <td>0.30</td>\n",
       "      <td>1.1</td>\n",
       "      <td>0.022</td>\n",
       "      <td>20.0</td>\n",
       "      <td>110.0</td>\n",
       "      <td>0.98869</td>\n",
       "      <td>3.34</td>\n",
       "      <td>0.38</td>\n",
       "      <td>12.8</td>\n",
       "      <td>4</td>\n",
       "      <td>1</td>\n",
       "    </tr>\n",
       "    <tr>\n",
       "      <td>4897</td>\n",
       "      <td>6.0</td>\n",
       "      <td>0.21</td>\n",
       "      <td>0.38</td>\n",
       "      <td>0.8</td>\n",
       "      <td>0.020</td>\n",
       "      <td>22.0</td>\n",
       "      <td>98.0</td>\n",
       "      <td>0.98941</td>\n",
       "      <td>3.26</td>\n",
       "      <td>0.32</td>\n",
       "      <td>11.8</td>\n",
       "      <td>3</td>\n",
       "      <td>1</td>\n",
       "    </tr>\n",
       "  </tbody>\n",
       "</table>\n",
       "</div>"
      ],
      "text/plain": [
       "      fixed acidity  volatile acidity  citric acid  residual sugar  chlorides  \\\n",
       "4893            6.2              0.21         0.29             1.6      0.039   \n",
       "4894            6.6              0.32         0.36             8.0      0.047   \n",
       "4895            6.5              0.24         0.19             1.2      0.041   \n",
       "4896            5.5              0.29         0.30             1.1      0.022   \n",
       "4897            6.0              0.21         0.38             0.8      0.020   \n",
       "\n",
       "      free sulfur dioxide  total sulfur dioxide  density    pH  sulphates  \\\n",
       "4893                 24.0                  92.0  0.99114  3.27       0.50   \n",
       "4894                 57.0                 168.0  0.99490  3.15       0.46   \n",
       "4895                 30.0                 111.0  0.99254  2.99       0.46   \n",
       "4896                 20.0                 110.0  0.98869  3.34       0.38   \n",
       "4897                 22.0                  98.0  0.98941  3.26       0.32   \n",
       "\n",
       "      alcohol  quality  label  \n",
       "4893     11.2        3      1  \n",
       "4894      9.6        2      1  \n",
       "4895      9.4        3      1  \n",
       "4896     12.8        4      1  \n",
       "4897     11.8        3      1  "
      ]
     },
     "execution_count": 26,
     "metadata": {},
     "output_type": "execute_result"
    }
   ],
   "source": []
  },
  {
   "cell_type": "code",
   "execution_count": 52,
   "metadata": {},
   "outputs": [],
   "source": [
    "y = wine['quality']\n",
    "X = wine[['fixed acidity',\n",
    " 'volatile acidity',\n",
    " 'citric acid',\n",
    " 'residual sugar',\n",
    " 'chlorides',\n",
    " 'free sulfur dioxide',\n",
    " 'total sulfur dioxide',\n",
    " 'density',\n",
    " 'pH',\n",
    " 'sulphates',\n",
    " 'alcohol',\n",
    " #'quality'\n",
    "         ]]"
   ]
  },
  {
   "cell_type": "code",
   "execution_count": 53,
   "metadata": {},
   "outputs": [
    {
     "data": {
      "text/html": [
       "<div>\n",
       "<style scoped>\n",
       "    .dataframe tbody tr th:only-of-type {\n",
       "        vertical-align: middle;\n",
       "    }\n",
       "\n",
       "    .dataframe tbody tr th {\n",
       "        vertical-align: top;\n",
       "    }\n",
       "\n",
       "    .dataframe thead th {\n",
       "        text-align: right;\n",
       "    }\n",
       "</style>\n",
       "<table border=\"1\" class=\"dataframe\">\n",
       "  <thead>\n",
       "    <tr style=\"text-align: right;\">\n",
       "      <th></th>\n",
       "      <th>fixed acidity</th>\n",
       "      <th>volatile acidity</th>\n",
       "      <th>citric acid</th>\n",
       "      <th>residual sugar</th>\n",
       "      <th>chlorides</th>\n",
       "      <th>free sulfur dioxide</th>\n",
       "      <th>total sulfur dioxide</th>\n",
       "      <th>density</th>\n",
       "      <th>pH</th>\n",
       "      <th>sulphates</th>\n",
       "      <th>alcohol</th>\n",
       "    </tr>\n",
       "  </thead>\n",
       "  <tbody>\n",
       "    <tr>\n",
       "      <td>2162</td>\n",
       "      <td>9.9</td>\n",
       "      <td>0.49</td>\n",
       "      <td>0.23</td>\n",
       "      <td>2.4</td>\n",
       "      <td>0.087</td>\n",
       "      <td>19.0</td>\n",
       "      <td>115.0</td>\n",
       "      <td>0.9948</td>\n",
       "      <td>2.77</td>\n",
       "      <td>0.44</td>\n",
       "      <td>9.4</td>\n",
       "    </tr>\n",
       "  </tbody>\n",
       "</table>\n",
       "</div>"
      ],
      "text/plain": [
       "      fixed acidity  volatile acidity  citric acid  residual sugar  chlorides  \\\n",
       "2162            9.9              0.49         0.23             2.4      0.087   \n",
       "\n",
       "      free sulfur dioxide  total sulfur dioxide  density    pH  sulphates  \\\n",
       "2162                 19.0                 115.0   0.9948  2.77       0.44   \n",
       "\n",
       "      alcohol  \n",
       "2162      9.4  "
      ]
     },
     "execution_count": 53,
     "metadata": {},
     "output_type": "execute_result"
    }
   ],
   "source": [
    "X_train, X_test, y_train, y_test = train_test_split(X,y,test_size=0.3, random_state=42)\n",
    "X_train.head(1)"
   ]
  },
  {
   "cell_type": "code",
   "execution_count": 54,
   "metadata": {},
   "outputs": [
    {
     "name": "stderr",
     "output_type": "stream",
     "text": [
      "/home/joona/IdeaProjects/MLCourse/venv/forNb/lib/python3.6/site-packages/sklearn/model_selection/_split.py:1978: FutureWarning: The default value of cv will change from 3 to 5 in version 0.22. Specify it explicitly to silence this warning.\n",
      "  warnings.warn(CV_WARNING, FutureWarning)\n"
     ]
    },
    {
     "name": "stdout",
     "output_type": "stream",
     "text": [
      "Parhaat parametrit:  {'svm__C': 10, 'svm__gamma': 1}\n",
      "Paras opetus OA: 0.5852\n",
      "OA: 0.6149\n"
     ]
    }
   ],
   "source": [
    "from sklearn.model_selection import GridSearchCV\n",
    "from sklearn.pipeline import Pipeline\n",
    "\n",
    "pipe = Pipeline([('scaler', StandardScaler()), ('pca',PCA(n_components=0.9)), ('svm', SVC())])\n",
    "\n",
    "parameters = {'svm__C':[1,10,20, 0.01, 100], 'svm__gamma':[1,10,100, 0.01, 0.001]}\n",
    "clf = GridSearchCV(pipe, parameters, n_jobs=-1)\n",
    "clf.fit(X_train, y_train)\n",
    "print(\"Parhaat parametrit: \", clf.best_params_)\n",
    "print(\"Paras opetus OA: {:.4f}\".format(clf.best_score_))\n",
    "print(\"OA: {:.4f}\".format(clf.score(X_test, y_test)))"
   ]
  },
  {
   "cell_type": "code",
   "execution_count": 38,
   "metadata": {},
   "outputs": [
    {
     "name": "stdout",
     "output_type": "stream",
     "text": [
      "Muuttujien määrä oli ennen 4, nyt se on  11\n"
     ]
    }
   ],
   "source": [
    "from sklearn.decomposition import PCA\n",
    "# TODO: None\n",
    "pca = PCA(n_components=0.99)\n",
    "pca.fit(X_train)\n",
    "X_train = pca.transform(X_train)\n",
    "print(\"Muuttujien määrä oli ennen 4, nyt se on \", len(X_train[0]))\n",
    "\n",
    "# TODO: [kuvaaja](https://scikit-learn.org/stable/auto_examples/datasets/plot_iris_dataset.html)"
   ]
  },
  {
   "cell_type": "code",
   "execution_count": 39,
   "metadata": {},
   "outputs": [
    {
     "data": {
      "image/png": "[encoded data removed]",
      "text/plain": [
       "<Figure size 576x432 with 1 Axes>"
      ]
     },
     "metadata": {
      "needs_background": "light"
     },
     "output_type": "display_data"
    }
   ],
   "source": [
    "import matplotlib.pyplot as plt\n",
    "fig, ax = plt.subplots(figsize=(8, 6))\n",
    "ax.scatter(X_train[:, 0], X_train[:, 1], c=y_train, cmap=plt.cm.Set1,\n",
    "            edgecolor='k')\n",
    "ax.set_xlabel('1. ominaisuusvektori')\n",
    "ax.set_ylabel('2. ominaisuusvektori')\n",
    "plt.show()"
   ]
  },
  {
   "cell_type": "code",
   "execution_count": 63,
   "metadata": {},
   "outputs": [
    {
     "name": "stdout",
     "output_type": "stream",
     "text": [
      "Coefficients: \n",
      " [ 0.8933749   0.05352358  0.16061288  0.41422358 -0.07708835 -0.02918547\n",
      " -0.09431581 -1.12178477  0.57512241  0.22174003]\n",
      "Mean squared error: 0.36\n"
     ]
    }
   ],
   "source": [
    "from sklearn.linear_model import LinearRegression, Lasso\n",
    "from sklearn.metrics import mean_squared_error, r2_score\n",
    "\n",
    "regr = LinearRegression()\n",
    "regr.fit(X_train, y_train)\n",
    "y_pred = regr.predict(X_test)\n",
    "\n",
    "print('Coefficients: \\n', regr.coef_)\n",
    "print(\"Mean squared error: {:.2f}\".format(mean_squared_error(y_test, y_pred)))"
   ]
  },
  {
   "cell_type": "code",
   "execution_count": 5,
   "metadata": {},
   "outputs": [],
   "source": [
    "parcels = pd.read_csv(\"../lohkot.csv\", sep=\";\", index_col=False)\n",
    "groups = pd.read_csv(\"../goups.csv\")"
   ]
  },
  {
   "cell_type": "code",
   "execution_count": 28,
   "metadata": {},
   "outputs": [
    {
     "name": "stdout",
     "output_type": "stream",
     "text": [
      "['A' 'B' 'D' 'E' 'C' 'F' 'G' 'H' 'I' 'J' 'K' 'L' 'M' 'N' 'O' 'Q' 'T' 'U'\n",
      " 'P' 'R' 'S' 'V' 'W' 'X' '2' '3' 'Y' '1' 'LI' 'Ù' 'Ø' 'Ú' '3A' '2A' '4B'\n",
      " '4C' '2B' '4A' 'AA' 'AB' 'AC' 'AD' 'AE' 'Z' 'AF' 'AG' 'AH' 'AI' 'AJ' 'AK'\n",
      " 'AL' 'AM' 'AN' 'AO' 'AP' 'AQ' 'AR' 'AS' 'AT' 'a']\n"
     ]
    }
   ],
   "source": []
  },
  {
   "cell_type": "code",
   "execution_count": 6,
   "metadata": {},
   "outputs": [
    {
     "name": "stdout",
     "output_type": "stream",
     "text": [
      "{2120: 2, 5120: 3, 9812: 7, 6121: 7, 2200: 1, 9404: 4, 4210: 5, 1400: 6, 1211: 6, 1120: 6, 1220: 6, 6111: 7, 6112: 7, 6561: 7, 2430: 7, 4110: 9, 2110: 2, 3210: 3, 9403: 4, 1545: 6, 1320: 6, 1310: 6, 4905: 7, 9820: 7, 9811: 7, 9810: 7, 9405: 7, 6125: 7, 6123: 7, 6122: 7, 4904: 7, 6210: 7, 9424: 7, 6220: 7, 9423: 7, 6300: 7, 3160: 8, 3120: 8, 3110: 8, 1230: 10, 5101: 2, 1605: 6, 1602: 6, 1601: 6, 1603: 6, 9805: 7, 6050: 7, 6051: 7, 9412: 7, 3190: 8, 3150: 8, 3130: 8, 1141: 10, 1110: 10}\n"
     ]
    }
   ],
   "source": [
    "groups = groups.set_index('code')[['mavigroup_id']]\n",
    "d = groups.to_dict()['mavigroup_id']\n",
    "print(d)\n",
    "parcels['group'] = parcels['KVI_KASVIKOODI'].fillna(0.0).astype(int)\n",
    "parcels['group'] = parcels.group.map(d)\n",
    "parcels.group = parcels.group.fillna(-1.0).astype(int)\n",
    "parcels = parcels[parcels.group != -1]\n"
   ]
  },
  {
   "cell_type": "code",
   "execution_count": 7,
   "metadata": {},
   "outputs": [
    {
     "name": "stdout",
     "output_type": "stream",
     "text": [
      "Index(['X', 'Y', 'fid', 'KLILM_TUNNUS', 'VUOSI', 'MAATILA_TUNNUS',\n",
      "       'PLVUOSI_PERUSLOHKOTUNNUS', 'KASVULOHKOTUNNUS', 'KVI_KASVIKOODI',\n",
      "       'KLE_LAJIKEKOODI', 'LUOMUVKD_KOODI', 'SIELAKD_KOODI', 'PINTAALA',\n",
      "       'ONKOEKOLOGINENALA', 'LISATIETO', 'JATTOPVM', 'PERPVM', 'PAIPVM',\n",
      "       'group'],\n",
      "      dtype='object')\n",
      "[ 0  1  2  3  4  5  6  7  8  9 10 11 12 13 14 15 16 17 18 19 20 21 22 23]\n"
     ]
    },
    {
     "name": "stderr",
     "output_type": "stream",
     "text": [
      "/home/joona/IdeaProjects/MLCourse/venv/forNb/lib/python3.6/site-packages/ipykernel_launcher.py:5: SettingWithCopyWarning: \n",
      "A value is trying to be set on a copy of a slice from a DataFrame.\n",
      "Try using .loc[row_indexer,col_indexer] = value instead\n",
      "\n",
      "See the caveats in the documentation: http://pandas.pydata.org/pandas-docs/stable/user_guide/indexing.html#returning-a-view-versus-a-copy\n",
      "  \"\"\"\n"
     ]
    },
    {
     "data": {
      "text/html": [
       "<div>\n",
       "<style scoped>\n",
       "    .dataframe tbody tr th:only-of-type {\n",
       "        vertical-align: middle;\n",
       "    }\n",
       "\n",
       "    .dataframe tbody tr th {\n",
       "        vertical-align: top;\n",
       "    }\n",
       "\n",
       "    .dataframe thead th {\n",
       "        text-align: right;\n",
       "    }\n",
       "</style>\n",
       "<table border=\"1\" class=\"dataframe\">\n",
       "  <thead>\n",
       "    <tr style=\"text-align: right;\">\n",
       "      <th></th>\n",
       "      <th>X</th>\n",
       "      <th>Y</th>\n",
       "      <th>fid</th>\n",
       "      <th>KLILM_TUNNUS</th>\n",
       "      <th>VUOSI</th>\n",
       "      <th>MAATILA_TUNNUS</th>\n",
       "      <th>PLVUOSI_PERUSLOHKOTUNNUS</th>\n",
       "      <th>KASVULOHKOTUNNUS</th>\n",
       "      <th>KVI_KASVIKOODI</th>\n",
       "      <th>KLE_LAJIKEKOODI</th>\n",
       "      <th>LUOMUVKD_KOODI</th>\n",
       "      <th>SIELAKD_KOODI</th>\n",
       "      <th>PINTAALA</th>\n",
       "      <th>ONKOEKOLOGINENALA</th>\n",
       "      <th>LISATIETO</th>\n",
       "      <th>JATTOPVM</th>\n",
       "      <th>PERPVM</th>\n",
       "      <th>PAIPVM</th>\n",
       "      <th>group</th>\n",
       "    </tr>\n",
       "  </thead>\n",
       "  <tbody>\n",
       "    <tr>\n",
       "      <td>0</td>\n",
       "      <td>287195.676556</td>\n",
       "      <td>7.024374e+06</td>\n",
       "      <td>1</td>\n",
       "      <td>8334853</td>\n",
       "      <td>2018</td>\n",
       "      <td>4000541</td>\n",
       "      <td>40235903</td>\n",
       "      <td>A</td>\n",
       "      <td>1400.0</td>\n",
       "      <td>59</td>\n",
       "      <td>0</td>\n",
       "      <td>9</td>\n",
       "      <td>237</td>\n",
       "      <td>2</td>\n",
       "      <td>NaN</td>\n",
       "      <td>NaN</td>\n",
       "      <td>NaN</td>\n",
       "      <td>NaN</td>\n",
       "      <td>6</td>\n",
       "    </tr>\n",
       "    <tr>\n",
       "      <td>1</td>\n",
       "      <td>288354.235498</td>\n",
       "      <td>7.024197e+06</td>\n",
       "      <td>2</td>\n",
       "      <td>8334854</td>\n",
       "      <td>2018</td>\n",
       "      <td>4000541</td>\n",
       "      <td>40236004</td>\n",
       "      <td>A</td>\n",
       "      <td>6121.0</td>\n",
       "      <td>NaN</td>\n",
       "      <td>0</td>\n",
       "      <td>0</td>\n",
       "      <td>88</td>\n",
       "      <td>2</td>\n",
       "      <td>NaN</td>\n",
       "      <td>NaN</td>\n",
       "      <td>NaN</td>\n",
       "      <td>NaN</td>\n",
       "      <td>7</td>\n",
       "    </tr>\n",
       "    <tr>\n",
       "      <td>2</td>\n",
       "      <td>288659.031144</td>\n",
       "      <td>7.024069e+06</td>\n",
       "      <td>3</td>\n",
       "      <td>8334855</td>\n",
       "      <td>2018</td>\n",
       "      <td>4000541</td>\n",
       "      <td>40236307</td>\n",
       "      <td>A</td>\n",
       "      <td>1400.0</td>\n",
       "      <td>59</td>\n",
       "      <td>0</td>\n",
       "      <td>9</td>\n",
       "      <td>38</td>\n",
       "      <td>2</td>\n",
       "      <td>NaN</td>\n",
       "      <td>NaN</td>\n",
       "      <td>NaN</td>\n",
       "      <td>NaN</td>\n",
       "      <td>6</td>\n",
       "    </tr>\n",
       "    <tr>\n",
       "      <td>3</td>\n",
       "      <td>289127.901315</td>\n",
       "      <td>7.025355e+06</td>\n",
       "      <td>4</td>\n",
       "      <td>8334856</td>\n",
       "      <td>2018</td>\n",
       "      <td>4000541</td>\n",
       "      <td>40343916</td>\n",
       "      <td>A</td>\n",
       "      <td>6121.0</td>\n",
       "      <td>NaN</td>\n",
       "      <td>0</td>\n",
       "      <td>0</td>\n",
       "      <td>185</td>\n",
       "      <td>2</td>\n",
       "      <td>NaN</td>\n",
       "      <td>NaN</td>\n",
       "      <td>NaN</td>\n",
       "      <td>NaN</td>\n",
       "      <td>7</td>\n",
       "    </tr>\n",
       "    <tr>\n",
       "      <td>4</td>\n",
       "      <td>289046.132146</td>\n",
       "      <td>7.025251e+06</td>\n",
       "      <td>5</td>\n",
       "      <td>8334857</td>\n",
       "      <td>2018</td>\n",
       "      <td>4000541</td>\n",
       "      <td>40344219</td>\n",
       "      <td>A</td>\n",
       "      <td>6121.0</td>\n",
       "      <td>NaN</td>\n",
       "      <td>0</td>\n",
       "      <td>0</td>\n",
       "      <td>134</td>\n",
       "      <td>2</td>\n",
       "      <td>NaN</td>\n",
       "      <td>NaN</td>\n",
       "      <td>NaN</td>\n",
       "      <td>NaN</td>\n",
       "      <td>7</td>\n",
       "    </tr>\n",
       "  </tbody>\n",
       "</table>\n",
       "</div>"
      ],
      "text/plain": [
       "               X             Y  fid  KLILM_TUNNUS  VUOSI  MAATILA_TUNNUS  \\\n",
       "0  287195.676556  7.024374e+06    1       8334853   2018         4000541   \n",
       "1  288354.235498  7.024197e+06    2       8334854   2018         4000541   \n",
       "2  288659.031144  7.024069e+06    3       8334855   2018         4000541   \n",
       "3  289127.901315  7.025355e+06    4       8334856   2018         4000541   \n",
       "4  289046.132146  7.025251e+06    5       8334857   2018         4000541   \n",
       "\n",
       "   PLVUOSI_PERUSLOHKOTUNNUS KASVULOHKOTUNNUS  KVI_KASVIKOODI KLE_LAJIKEKOODI  \\\n",
       "0                  40235903                A          1400.0              59   \n",
       "1                  40236004                A          6121.0             NaN   \n",
       "2                  40236307                A          1400.0              59   \n",
       "3                  40343916                A          6121.0             NaN   \n",
       "4                  40344219                A          6121.0             NaN   \n",
       "\n",
       "   LUOMUVKD_KOODI  SIELAKD_KOODI  PINTAALA  ONKOEKOLOGINENALA LISATIETO  \\\n",
       "0               0              9       237                  2       NaN   \n",
       "1               0              0        88                  2       NaN   \n",
       "2               0              9        38                  2       NaN   \n",
       "3               0              0       185                  2       NaN   \n",
       "4               0              0       134                  2       NaN   \n",
       "\n",
       "   JATTOPVM  PERPVM  PAIPVM  group  \n",
       "0       NaN     NaN     NaN      6  \n",
       "1       NaN     NaN     NaN      7  \n",
       "2       NaN     NaN     NaN      6  \n",
       "3       NaN     NaN     NaN      7  \n",
       "4       NaN     NaN     NaN      7  "
      ]
     },
     "execution_count": 7,
     "metadata": {},
     "output_type": "execute_result"
    }
   ],
   "source": [
    "print(parcels.columns)\n",
    "parcels_sample = parcels.sample(frac=0.1)\n",
    "X = parcels_sample[['X', 'Y','KASVULOHKOTUNNUS', 'LUOMUVKD_KOODI', 'SIELAKD_KOODI', 'PINTAALA', 'ONKOEKOLOGINENALA']]\n",
    "d_a = {i: x for x, i in enumerate(list(X['KASVULOHKOTUNNUS'].unique()))}\n",
    "X['KASVULOHKOTUNNUS'] = X['KASVULOHKOTUNNUS'].map(d_a)\n",
    "print(X['KASVULOHKOTUNNUS'].unique())\n",
    "y = parcels_sample.group\n",
    "parcels.head(5)"
   ]
  },
  {
   "cell_type": "code",
   "execution_count": 19,
   "metadata": {},
   "outputs": [],
   "source": [
    "from sklearn.model_selection import train_test_split\n",
    "from sklearn.preprocessing import StandardScaler\n",
    "from sklearn.decomposition import PCA\n",
    "from sklearn.pipeline import Pipeline\n",
    "\n",
    "X_train, X_test, y_train, y_test = train_test_split(X,y,test_size=0.8, random_state=42)\n",
    "\n",
    "clf = Pipeline([('scaler', StandardScaler()), ('pca',PCA(n_components=0.8)), ('svm',SVC())])\n"
   ]
  },
  {
   "cell_type": "code",
   "execution_count": 20,
   "metadata": {},
   "outputs": [
    {
     "name": "stdout",
     "output_type": "stream",
     "text": [
      "19065 76260 [ 6  8  7  4  1 10  5  9  3  2] [ 7  6  5  9  3  4  8 10  1  2]\n"
     ]
    }
   ],
   "source": [
    "print(len(y_train), len(y_test), y_train.unique(), y_test.unique())"
   ]
  },
  {
   "cell_type": "code",
   "execution_count": 21,
   "metadata": {},
   "outputs": [
    {
     "name": "stdout",
     "output_type": "stream",
     "text": [
      "dict_keys(['memory', 'steps', 'verbose', 'scaler', 'pca', 'svm', 'scaler__copy', 'scaler__with_mean', 'scaler__with_std', 'pca__copy', 'pca__iterated_power', 'pca__n_components', 'pca__random_state', 'pca__svd_solver', 'pca__tol', 'pca__whiten', 'svm__C', 'svm__cache_size', 'svm__class_weight', 'svm__coef0', 'svm__decision_function_shape', 'svm__degree', 'svm__gamma', 'svm__kernel', 'svm__max_iter', 'svm__probability', 'svm__random_state', 'svm__shrinking', 'svm__tol', 'svm__verbose'])\n",
      "Parhaat parametrit:  {'svm__C': 1, 'svm__gamma': 1}\n",
      "Paras opetus OA: 0.9054\n",
      "OA: 0.9041\n"
     ]
    }
   ],
   "source": [
    "from sklearn.model_selection import GridSearchCV\n",
    "parameters = {'svm__C':[1], 'svm__gamma':[1]}\n",
    "print(clf.get_params().keys())\n",
    "clf = GridSearchCV(clf, parameters, cv=2, n_jobs=-1)\n",
    "clf.fit(X_train, y_train)\n",
    "print(\"Parhaat parametrit: \", clf.best_params_)\n",
    "print(\"Paras opetus OA: {:.4f}\".format(clf.best_score_))\n",
    "print(\"OA: {:.4f}\".format(clf.score(X_test, y_test)))"
   ]
  },
  {
   "cell_type": "code",
   "execution_count": null,
   "metadata": {},
   "outputs": [],
   "source": [
    "print(clf)"
   ]
  }
 ],
 "metadata": {
  "kernelspec": {
   "display_name": "Python 3",
   "language": "python",
   "name": "python3"
  },
  "language_info": {
   "codemirror_mode": {
    "name": "ipython",
    "version": 3
   },
   "file_extension": ".py",
   "mimetype": "text/x-python",
   "name": "python",
   "nbconvert_exporter": "python",
   "pygments_lexer": "ipython3",
   "version": "3.6.8"
  }
 },
 "nbformat": 4,
 "nbformat_minor": 2
}
